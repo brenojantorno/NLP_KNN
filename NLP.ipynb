{
 "cells": [
  {
   "cell_type": "code",
   "execution_count": 19,
   "metadata": {},
   "outputs": [],
   "source": [
    "import numpy as np\n",
    "import pandas as pd\n",
    "import os\n",
    "from tqdm import tqdm\n"
   ]
  },
  {
   "cell_type": "code",
   "execution_count": 2,
   "metadata": {},
   "outputs": [],
   "source": [
    "path = os.getcwd() + \"/atribuna/aTribuna_completo\"\n",
    "content_file_array = []\n",
    "classifier_array = []"
   ]
  },
  {
   "cell_type": "code",
   "execution_count": 3,
   "metadata": {},
   "outputs": [],
   "source": [
    "def read_text(path, file_Name):\n",
    "    with open(path, encoding=\"latin-1\") as file:\n",
    "        content_file = file.read()\n",
    "        Build_DataFrame(content_file, file_Name)"
   ]
  },
  {
   "cell_type": "code",
   "execution_count": 4,
   "metadata": {},
   "outputs": [],
   "source": [
    "def Build_DataFrame(content_file, file_Name):\n",
    "    classifier =  GetClassifier(file_Name) \n",
    "    if(len(classifier) >= 3):        \n",
    "        classifier_array.append(classifier)\n",
    "        content_file_array.append(content_file)  "
   ]
  },
  {
   "cell_type": "code",
   "execution_count": 5,
   "metadata": {},
   "outputs": [],
   "source": [
    "def GetClassifier(file_Name):\n",
    "    name_split =  file_Name.split(\".\")\n",
    "    first_name = name_split[0];\n",
    "    return first_name[(len(first_name) - 3) : len(first_name)]"
   ]
  },
  {
   "cell_type": "code",
   "execution_count": 20,
   "metadata": {},
   "outputs": [
    {
     "name": "stderr",
     "output_type": "stream",
     "text": [
      "Carregar arquivos: 100%|████████████████████████████████████████████████████████| 45910/45910 [02:19<00:00, 329.92it/s]\n"
     ]
    }
   ],
   "source": [
    "for file_Name in tqdm(os.listdir(path), desc=\"Carregar arquivos\"):    \n",
    "    if file_Name.endswith(\".txt\"):\n",
    "        file_path = f\"{path}\\{file_Name}\"\n",
    "      \n",
    "        # call read text file function\n",
    "        read_text(file_path, file_Name)"
   ]
  },
  {
   "cell_type": "code",
   "execution_count": 7,
   "metadata": {
    "scrolled": true
   },
   "outputs": [],
   "source": [
    "textDataDrame =  pd.DataFrame({\"Text\":content_file_array, \"Class\":classifier_array})\n"
   ]
  },
  {
   "cell_type": "code",
   "execution_count": 8,
   "metadata": {
    "scrolled": true
   },
   "outputs": [
    {
     "data": {
      "text/html": [
       "<div>\n",
       "<style scoped>\n",
       "    .dataframe tbody tr th:only-of-type {\n",
       "        vertical-align: middle;\n",
       "    }\n",
       "\n",
       "    .dataframe tbody tr th {\n",
       "        vertical-align: top;\n",
       "    }\n",
       "\n",
       "    .dataframe thead th {\n",
       "        text-align: right;\n",
       "    }\n",
       "</style>\n",
       "<table border=\"1\" class=\"dataframe\">\n",
       "  <thead>\n",
       "    <tr style=\"text-align: right;\">\n",
       "      <th></th>\n",
       "      <th>Text</th>\n",
       "      <th>Class</th>\n",
       "    </tr>\n",
       "  </thead>\n",
       "  <tbody>\n",
       "    <tr>\n",
       "      <th>0</th>\n",
       "      <td>Testes nas famílias\\n&lt;b&gt; A pedido de A Tribuna...</td>\n",
       "      <td>at2</td>\n",
       "    </tr>\n",
       "    <tr>\n",
       "      <th>1</th>\n",
       "      <td>Deu borboleta na moda\\n&lt;b&gt; A borboleta, que fo...</td>\n",
       "      <td>at2</td>\n",
       "    </tr>\n",
       "    <tr>\n",
       "      <th>2</th>\n",
       "      <td>Roupas de malha vão à festa\\n&lt;b&gt; Se antes as p...</td>\n",
       "      <td>at2</td>\n",
       "    </tr>\n",
       "    <tr>\n",
       "      <th>3</th>\n",
       "      <td>Chega de dor-de-cotovelo\\n&lt;b&gt; Com muito humor ...</td>\n",
       "      <td>at2</td>\n",
       "    </tr>\n",
       "    <tr>\n",
       "      <th>4</th>\n",
       "      <td>Tom Cruise volta com tudo\\n&lt;b&gt; Ação sem fim e ...</td>\n",
       "      <td>at2</td>\n",
       "    </tr>\n",
       "    <tr>\n",
       "      <th>5</th>\n",
       "      <td>Temporada de arraiás\\n&lt;b&gt; Sejam as tradicionai...</td>\n",
       "      <td>at2</td>\n",
       "    </tr>\n",
       "    <tr>\n",
       "      <th>6</th>\n",
       "      <td>Bregas ontem, chiques hoje\\n&lt;b&gt; Ídolos no pass...</td>\n",
       "      <td>at2</td>\n",
       "    </tr>\n",
       "    <tr>\n",
       "      <th>7</th>\n",
       "      <td>Picape boa de briga\\n&lt;b&gt; Testada por Sobre Rod...</td>\n",
       "      <td>sro</td>\n",
       "    </tr>\n",
       "    <tr>\n",
       "      <th>8</th>\n",
       "      <td>Rita Cadilac vai se aposentar\\n&lt;b&gt; A ex-chacre...</td>\n",
       "      <td>at2</td>\n",
       "    </tr>\n",
       "    <tr>\n",
       "      <th>9</th>\n",
       "      <td>Cada balada, um visual\\n&lt;b&gt; A turma das raves ...</td>\n",
       "      <td>at2</td>\n",
       "    </tr>\n",
       "  </tbody>\n",
       "</table>\n",
       "</div>"
      ],
      "text/plain": [
       "                                                Text Class\n",
       "0  Testes nas famílias\\n<b> A pedido de A Tribuna...   at2\n",
       "1  Deu borboleta na moda\\n<b> A borboleta, que fo...   at2\n",
       "2  Roupas de malha vão à festa\\n<b> Se antes as p...   at2\n",
       "3  Chega de dor-de-cotovelo\\n<b> Com muito humor ...   at2\n",
       "4  Tom Cruise volta com tudo\\n<b> Ação sem fim e ...   at2\n",
       "5  Temporada de arraiás\\n<b> Sejam as tradicionai...   at2\n",
       "6  Bregas ontem, chiques hoje\\n<b> Ídolos no pass...   at2\n",
       "7  Picape boa de briga\\n<b> Testada por Sobre Rod...   sro\n",
       "8  Rita Cadilac vai se aposentar\\n<b> A ex-chacre...   at2\n",
       "9  Cada balada, um visual\\n<b> A turma das raves ...   at2"
      ]
     },
     "execution_count": 8,
     "metadata": {},
     "output_type": "execute_result"
    }
   ],
   "source": [
    "textDataDrame.head(10)"
   ]
  },
  {
   "cell_type": "markdown",
   "metadata": {},
   "source": [
    "# StopWords removing"
   ]
  },
  {
   "cell_type": "code",
   "execution_count": 15,
   "metadata": {},
   "outputs": [
    {
     "name": "stdout",
     "output_type": "stream",
     "text": [
      "showing info https://raw.githubusercontent.com/nltk/nltk_data/gh-pages/index.xml\n"
     ]
    }
   ],
   "source": [
    "#!conda install unidecode\n",
    "\n",
    "import nltk\n",
    "import unidecode\n",
    "from bs4 import BeautifulSoup\n",
    "\n",
    "#nltk.download()\n",
    "#- averaged_perceptron_tagger\n",
    "# - floresta\n",
    "# - mac_morpho\n",
    "# - machado\n",
    "# - punkt\n",
    "# - stopwords\n",
    "# - wordnet\n",
    "# - words\n",
    "\n",
    "from nltk.tokenize import word_tokenize\n",
    "from nltk.tokenize import sent_tokenize\n",
    "from nltk.corpus import stopwords\n",
    "from nltk.tokenize import word_tokenize\n"
   ]
  },
  {
   "cell_type": "code",
   "execution_count": 16,
   "metadata": {},
   "outputs": [],
   "source": [
    "def addStopWordsToList(texto):\n",
    "    example_sent = texto\n",
    "    word_tokens = word_tokenize(example_sent)\n",
    "\n",
    "    filtered_sentence = [w for w in word_tokens if not w.lower() in stop_words]\n",
    "\n",
    "    filtered_sentence = []\n",
    "\n",
    "    for w in word_tokens:\n",
    "        if w not in stop_words:\n",
    "            filtered_sentence.append(w)\n",
    "    return filtered_sentence"
   ]
  },
  {
   "cell_type": "code",
   "execution_count": 22,
   "metadata": {},
   "outputs": [],
   "source": [
    "stop_words = set(stopwords.words('portuguese'))\n",
    "def returnDataFrameStopWords(dataFrame):\n",
    "    dataReturn = pd.DataFrame()\n",
    "    for row in tqdm(dataFrame.itertuples(index=True, name='Pandas'), desc=\"Limpeza de texto\"):\n",
    "        Text = row.Text\n",
    "        Class = row.Class\n",
    "\n",
    "        Text = BeautifulSoup(Text, \"lxml\").text\n",
    "        Text = unidecode.unidecode(Text)\n",
    "        Text = addStopWordsToList(Text)\n",
    "\n",
    "        linha = pd.Series([Text, Class])\n",
    "        linha = pd.DataFrame([linha])\n",
    "        dataReturn = pd.concat([linha, dataReturn], ignore_index=True)\n",
    "\n",
    "    return dataReturn"
   ]
  },
  {
   "cell_type": "code",
   "execution_count": 23,
   "metadata": {
    "scrolled": false
   },
   "outputs": [
    {
     "name": "stderr",
     "output_type": "stream",
     "text": [
      "Limpeza de texto: 45908it [08:26, 90.60it/s] \n"
     ]
    },
    {
     "data": {
      "text/html": [
       "<div>\n",
       "<style scoped>\n",
       "    .dataframe tbody tr th:only-of-type {\n",
       "        vertical-align: middle;\n",
       "    }\n",
       "\n",
       "    .dataframe tbody tr th {\n",
       "        vertical-align: top;\n",
       "    }\n",
       "\n",
       "    .dataframe thead th {\n",
       "        text-align: right;\n",
       "    }\n",
       "</style>\n",
       "<table border=\"1\" class=\"dataframe\">\n",
       "  <thead>\n",
       "    <tr style=\"text-align: right;\">\n",
       "      <th></th>\n",
       "      <th>0</th>\n",
       "      <th>1</th>\n",
       "    </tr>\n",
       "  </thead>\n",
       "  <tbody>\n",
       "    <tr>\n",
       "      <th>0</th>\n",
       "      <td>[CONCURSOS, Vagas, nivel, superior, O, salario...</td>\n",
       "      <td>eco</td>\n",
       "    </tr>\n",
       "    <tr>\n",
       "      <th>1</th>\n",
       "      <td>[O, caminho, diminuir, criminalidade, ..., so,...</td>\n",
       "      <td>opi</td>\n",
       "    </tr>\n",
       "    <tr>\n",
       "      <th>2</th>\n",
       "      <td>[Estagiario, rouba, bolsas, policiais, Um, ado...</td>\n",
       "      <td>poc</td>\n",
       "    </tr>\n",
       "    <tr>\n",
       "      <th>3</th>\n",
       "      <td>[PLANETA, POP, Robin, Williams, adota, filho, ...</td>\n",
       "      <td>at2</td>\n",
       "    </tr>\n",
       "    <tr>\n",
       "      <th>4</th>\n",
       "      <td>[CONCURSOS, Vagas, nivel, superior, O, salario...</td>\n",
       "      <td>eco</td>\n",
       "    </tr>\n",
       "    <tr>\n",
       "      <th>...</th>\n",
       "      <td>...</td>\n",
       "      <td>...</td>\n",
       "    </tr>\n",
       "    <tr>\n",
       "      <th>45903</th>\n",
       "      <td>[Tom, Cruise, volta, tudo, Acao, fim, penca, m...</td>\n",
       "      <td>at2</td>\n",
       "    </tr>\n",
       "    <tr>\n",
       "      <th>45904</th>\n",
       "      <td>[Chega, dor-de-cotovelo, Com, humor, ironia, ,...</td>\n",
       "      <td>at2</td>\n",
       "    </tr>\n",
       "    <tr>\n",
       "      <th>45905</th>\n",
       "      <td>[Roupas, malha, vao, festa, Se, antes, pecas, ...</td>\n",
       "      <td>at2</td>\n",
       "    </tr>\n",
       "    <tr>\n",
       "      <th>45906</th>\n",
       "      <td>[Deu, borboleta, moda, A, borboleta, ,, elevad...</td>\n",
       "      <td>at2</td>\n",
       "    </tr>\n",
       "    <tr>\n",
       "      <th>45907</th>\n",
       "      <td>[Testes, familias, A, pedido, A, Tribuna, ,, t...</td>\n",
       "      <td>at2</td>\n",
       "    </tr>\n",
       "  </tbody>\n",
       "</table>\n",
       "<p>45908 rows × 2 columns</p>\n",
       "</div>"
      ],
      "text/plain": [
       "                                                       0    1\n",
       "0      [CONCURSOS, Vagas, nivel, superior, O, salario...  eco\n",
       "1      [O, caminho, diminuir, criminalidade, ..., so,...  opi\n",
       "2      [Estagiario, rouba, bolsas, policiais, Um, ado...  poc\n",
       "3      [PLANETA, POP, Robin, Williams, adota, filho, ...  at2\n",
       "4      [CONCURSOS, Vagas, nivel, superior, O, salario...  eco\n",
       "...                                                  ...  ...\n",
       "45903  [Tom, Cruise, volta, tudo, Acao, fim, penca, m...  at2\n",
       "45904  [Chega, dor-de-cotovelo, Com, humor, ironia, ,...  at2\n",
       "45905  [Roupas, malha, vao, festa, Se, antes, pecas, ...  at2\n",
       "45906  [Deu, borboleta, moda, A, borboleta, ,, elevad...  at2\n",
       "45907  [Testes, familias, A, pedido, A, Tribuna, ,, t...  at2\n",
       "\n",
       "[45908 rows x 2 columns]"
      ]
     },
     "execution_count": 23,
     "metadata": {},
     "output_type": "execute_result"
    }
   ],
   "source": [
    "returnDataFrameStopWords(textDataDrame)"
   ]
  },
  {
   "cell_type": "markdown",
   "metadata": {},
   "source": [
    "## Fatores de Ponderação"
   ]
  },
  {
   "cell_type": "code",
   "execution_count": null,
   "metadata": {},
   "outputs": [],
   "source": [
    "weighting_factors =  [\"icf\",\"x²\",\"rf\",\"ICF-Based\",\"RF*IDF\",\"TF\",\"TF-IDF\"]\n"
   ]
  },
  {
   "cell_type": "markdown",
   "metadata": {},
   "source": [
    "# Imports do EDA"
   ]
  },
  {
   "cell_type": "code",
   "execution_count": 1,
   "metadata": {},
   "outputs": [],
   "source": [
    "from sklearn.linear_model import LogisticRegression\n",
    "import sklearn.metrics as metrics\n",
    "from sklearn.metrics import confusion_matrix\n",
    "from sklearn.metrics import roc_auc_score, roc_curve,classification_report,r2_score\n",
    "from sklearn import model_selection as ms"
   ]
  },
  {
   "cell_type": "code",
   "execution_count": 4,
   "metadata": {},
   "outputs": [],
   "source": [
    "# print da curva ROC\n",
    "def plot_roc_curve(y_true, y_score, figsize=(10,6)):\n",
    "    fpr, tpr, _ = roc_curve(y_true, y_score)\n",
    "    plt.figure(figsize=figsize)\n",
    "    auc_value = roc_auc_score(y_true, y_score)\n",
    "    plt.plot(fpr, tpr, color='orange', label='ROC curve (area = %0.2f)' % auc_value)\n",
    "    plt.plot([0, 1], [0, 1], color='darkblue', linestyle='--')\n",
    "    plt.xlabel('Taxa de falso positivo')\n",
    "    plt.ylabel('Taxa de verdadeiro positivo')\n",
    "    plt.title('Curva ROC')\n",
    "    plt.legend()\n",
    "    plt.show()"
   ]
  },
  {
   "cell_type": "code",
   "execution_count": 3,
   "metadata": {},
   "outputs": [
    {
     "ename": "NameError",
     "evalue": "name 'y_test' is not defined",
     "output_type": "error",
     "traceback": [
      "\u001b[1;31m---------------------------------------------------------------------------\u001b[0m",
      "\u001b[1;31mNameError\u001b[0m                                 Traceback (most recent call last)",
      "\u001b[1;32m<ipython-input-3-e391e3b6f861>\u001b[0m in \u001b[0;36m<module>\u001b[1;34m()\u001b[0m\n\u001b[1;32m----> 1\u001b[1;33m \u001b[0mprint\u001b[0m\u001b[1;33m(\u001b[0m\u001b[0mclassification_report\u001b[0m\u001b[1;33m(\u001b[0m\u001b[0my_test\u001b[0m\u001b[1;33m,\u001b[0m \u001b[0mpred\u001b[0m\u001b[1;33m,\u001b[0m \u001b[0mlabels\u001b[0m\u001b[1;33m=\u001b[0m\u001b[1;33m[\u001b[0m\u001b[1;36m1\u001b[0m\u001b[1;33m,\u001b[0m \u001b[1;36m2\u001b[0m\u001b[1;33m,\u001b[0m \u001b[1;36m3\u001b[0m\u001b[1;33m]\u001b[0m\u001b[1;33m)\u001b[0m\u001b[1;33m)\u001b[0m\u001b[1;33m\u001b[0m\u001b[0m\n\u001b[0m",
      "\u001b[1;31mNameError\u001b[0m: name 'y_test' is not defined"
     ]
    }
   ],
   "source": [
    "#precision    recall  f1-score   support\n",
    "print(classification_report(y_test, pred, labels=[1, 2, 3]))"
   ]
  },
  {
   "cell_type": "code",
   "execution_count": 5,
   "metadata": {
    "scrolled": true
   },
   "outputs": [
    {
     "ename": "SyntaxError",
     "evalue": "invalid syntax (<ipython-input-5-61188af94a59>, line 2)",
     "output_type": "error",
     "traceback": [
      "\u001b[1;36m  File \u001b[1;32m\"<ipython-input-5-61188af94a59>\"\u001b[1;36m, line \u001b[1;32m2\u001b[0m\n\u001b[1;33m    print('AUC: %0.2f' % roc_auc_score(y_test, pred))|\u001b[0m\n\u001b[1;37m                                                      ^\u001b[0m\n\u001b[1;31mSyntaxError\u001b[0m\u001b[1;31m:\u001b[0m invalid syntax\n"
     ]
    }
   ],
   "source": [
    "# AUC\n",
    "print('AUC: %0.2f' % roc_auc_score(y_test, pred))|"
   ]
  },
  {
   "cell_type": "code",
   "execution_count": 6,
   "metadata": {},
   "outputs": [],
   "source": [
    "def estimativas(nome_col,nome_fill,column_df,coluna_filtro):\n",
    "    \n",
    "    filtros = []\n",
    "    for item in coluna_filtro:\n",
    "        if(item not in filtros ):\n",
    "            filtros.append(item)\n",
    "    \n",
    "    for filtro in filtros:\n",
    "        column_filter = column_df[coluna_filtro == filtro]\n",
    "        mean = np.mean(column_filter)\n",
    "        median = np.median(column_filter)\n",
    "        sd = np.std(column_filter)\n",
    "        var = np.var(column_filter)\n",
    "        coef_var = (sd/mean)*100\n",
    "        mad = median_absolute_deviation(column_filter)\n",
    "        iqr = stats.iqr(column_filter)\n",
    "        \n",
    "        print(f'************** {nome_col} com {nome_fill} {filtro} ***************')\n",
    "        print(f'media:  %.2f' % mean)\n",
    "        print(f'mediana:  %.2f' % median)\n",
    "        print(f'Desvio Padrao:  %.2f' % sd)\n",
    "        print(f'Variancia:  %.2f' % var)\n",
    "        print(f'Coeficiente de variacao:  %.2f' % coef_var)\n",
    "        print(f'Desvio Absoluto Médio:  %.2f' % mad)\n",
    "        print(f'Amplitude Interquartil:  %.2f' % iqr)"
   ]
  },
  {
   "cell_type": "code",
   "execution_count": 7,
   "metadata": {},
   "outputs": [
    {
     "ename": "NameError",
     "evalue": "name 'df_original' is not defined",
     "output_type": "error",
     "traceback": [
      "\u001b[1;31m---------------------------------------------------------------------------\u001b[0m",
      "\u001b[1;31mNameError\u001b[0m                                 Traceback (most recent call last)",
      "\u001b[1;32m<ipython-input-7-26d563dae384>\u001b[0m in \u001b[0;36m<module>\u001b[1;34m()\u001b[0m\n\u001b[1;32m----> 1\u001b[1;33m \u001b[0mestimativas\u001b[0m\u001b[1;33m(\u001b[0m\u001b[1;34m'salary'\u001b[0m\u001b[1;33m,\u001b[0m\u001b[1;34m'Graduação'\u001b[0m\u001b[1;33m,\u001b[0m\u001b[0mdf_original\u001b[0m\u001b[1;33m.\u001b[0m\u001b[0msalary\u001b[0m\u001b[1;33m,\u001b[0m\u001b[0mdf_original\u001b[0m\u001b[1;33m.\u001b[0m\u001b[0mdegree_t\u001b[0m\u001b[1;33m)\u001b[0m\u001b[1;33m\u001b[0m\u001b[0m\n\u001b[0m",
      "\u001b[1;31mNameError\u001b[0m: name 'df_original' is not defined"
     ]
    }
   ],
   "source": [
    "estimativas('salary','Graduação',df_original.salary,df_original.graduacao)"
   ]
  },
  {
   "cell_type": "markdown",
   "metadata": {},
   "source": [
    "## Número de amostras de cade classe\n"
   ]
  },
  {
   "cell_type": "code",
   "execution_count": 9,
   "metadata": {},
   "outputs": [],
   "source": [
    "import seaborn as sns"
   ]
  },
  {
   "cell_type": "code",
   "execution_count": 10,
   "metadata": {},
   "outputs": [
    {
     "data": {
      "text/plain": [
       "<AxesSubplot:xlabel='Class', ylabel='count'>"
      ]
     },
     "execution_count": 10,
     "metadata": {},
     "output_type": "execute_result"
    },
    {
     "data": {
      "image/png": "[encoded data removed]",
      "text/plain": [
       "<Figure size 432x288 with 1 Axes>"
      ]
     },
     "metadata": {
      "needs_background": "light"
     },
     "output_type": "display_data"
    }
   ],
   "source": [
    "sns.countplot(x = 'Class',data = textDataDrame)"
   ]
  }
 ],
 "metadata": {
  "interpreter": {
   "hash": "63fd5069d213b44bf678585dea6b12cceca9941eaf7f819626cde1f2670de90d"
  },
  "kernelspec": {
   "display_name": "Python 3",
   "language": "python",
   "name": "python3"
  },
  "language_info": {
   "codemirror_mode": {
    "name": "ipython",
    "version": 3
   },
   "file_extension": ".py",
   "mimetype": "text/x-python",
   "name": "python",
   "nbconvert_exporter": "python",
   "pygments_lexer": "ipython3",
   "version": "3.8.5"
  }
 },
 "nbformat": 4,
 "nbformat_minor": 2
}
