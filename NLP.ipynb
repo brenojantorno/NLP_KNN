{
 "cells": [
  {
   "cell_type": "code",
   "execution_count": 1,
   "metadata": {},
   "outputs": [],
   "source": [
    "import numpy as np\n",
    "import pandas as pd\n",
    "import os"
   ]
  },
  {
   "cell_type": "code",
   "execution_count": 2,
   "metadata": {},
   "outputs": [],
   "source": [
    "path = os.getcwd() + \"/atribuna/aTribuna_completo\"\n",
    "content_file_array = []\n",
    "classifier_array = []"
   ]
  },
  {
   "cell_type": "code",
   "execution_count": 10,
   "metadata": {},
   "outputs": [],
   "source": [
    "def read_text(path, file_Name):\n",
    "    with open(path, encoding=\"latin-1\") as file:\n",
    "        content_file = file.read()\n",
    "        Build_DataFrame(content_file, file_Name)"
   ]
  },
  {
   "cell_type": "code",
   "execution_count": 11,
   "metadata": {},
   "outputs": [],
   "source": [
    "def Build_DataFrame(content_file, file_Name):\n",
    "    classifier =  GetClassifier(file_Name) \n",
    "    if(len(classifier) >= 3):        \n",
    "        classifier_array.append(classifier)\n",
    "        content_file_array.append(content_file)  "
   ]
  },
  {
   "cell_type": "code",
   "execution_count": 12,
   "metadata": {},
   "outputs": [],
   "source": [
    "def GetClassifier(file_Name):\n",
    "    name_split =  file_Name.split(\".\")\n",
    "    first_name = name_split[0];\n",
    "    return first_name[(len(first_name) - 3) : len(first_name)]"
   ]
  },
  {
   "cell_type": "code",
   "execution_count": 13,
   "metadata": {},
   "outputs": [],
   "source": [
    "for file_Name in os.listdir(path):    \n",
    "    if file_Name.endswith(\".txt\"):\n",
    "        file_path = f\"{path}\\{file_Name}\"\n",
    "      \n",
    "        # call read text file function\n",
    "        read_text(file_path, file_Name)"
   ]
  },
  {
   "cell_type": "code",
   "execution_count": 14,
   "metadata": {
    "scrolled": true
   },
   "outputs": [],
   "source": [
    "textDataDrame =  pd.DataFrame({\"Text\":content_file_array, \"Class\":classifier_array})\n"
   ]
  },
  {
   "cell_type": "code",
   "execution_count": 15,
   "metadata": {},
   "outputs": [
    {
     "data": {
      "text/html": [
       "<div>\n",
       "<style scoped>\n",
       "    .dataframe tbody tr th:only-of-type {\n",
       "        vertical-align: middle;\n",
       "    }\n",
       "\n",
       "    .dataframe tbody tr th {\n",
       "        vertical-align: top;\n",
       "    }\n",
       "\n",
       "    .dataframe thead th {\n",
       "        text-align: right;\n",
       "    }\n",
       "</style>\n",
       "<table border=\"1\" class=\"dataframe\">\n",
       "  <thead>\n",
       "    <tr style=\"text-align: right;\">\n",
       "      <th></th>\n",
       "      <th>Text</th>\n",
       "      <th>Class</th>\n",
       "    </tr>\n",
       "  </thead>\n",
       "  <tbody>\n",
       "    <tr>\n",
       "      <th>0</th>\n",
       "      <td>Testes nas famílias\\n&lt;b&gt; A pedido de A Tribuna...</td>\n",
       "      <td>at2</td>\n",
       "    </tr>\n",
       "    <tr>\n",
       "      <th>1</th>\n",
       "      <td>Deu borboleta na moda\\n&lt;b&gt; A borboleta, que fo...</td>\n",
       "      <td>at2</td>\n",
       "    </tr>\n",
       "    <tr>\n",
       "      <th>2</th>\n",
       "      <td>Roupas de malha vão à festa\\n&lt;b&gt; Se antes as p...</td>\n",
       "      <td>at2</td>\n",
       "    </tr>\n",
       "    <tr>\n",
       "      <th>3</th>\n",
       "      <td>Chega de dor-de-cotovelo\\n&lt;b&gt; Com muito humor ...</td>\n",
       "      <td>at2</td>\n",
       "    </tr>\n",
       "    <tr>\n",
       "      <th>4</th>\n",
       "      <td>Tom Cruise volta com tudo\\n&lt;b&gt; Ação sem fim e ...</td>\n",
       "      <td>at2</td>\n",
       "    </tr>\n",
       "    <tr>\n",
       "      <th>5</th>\n",
       "      <td>Temporada de arraiás\\n&lt;b&gt; Sejam as tradicionai...</td>\n",
       "      <td>at2</td>\n",
       "    </tr>\n",
       "    <tr>\n",
       "      <th>6</th>\n",
       "      <td>Bregas ontem, chiques hoje\\n&lt;b&gt; Ídolos no pass...</td>\n",
       "      <td>at2</td>\n",
       "    </tr>\n",
       "    <tr>\n",
       "      <th>7</th>\n",
       "      <td>Picape boa de briga\\n&lt;b&gt; Testada por Sobre Rod...</td>\n",
       "      <td>sro</td>\n",
       "    </tr>\n",
       "    <tr>\n",
       "      <th>8</th>\n",
       "      <td>Rita Cadilac vai se aposentar\\n&lt;b&gt; A ex-chacre...</td>\n",
       "      <td>at2</td>\n",
       "    </tr>\n",
       "    <tr>\n",
       "      <th>9</th>\n",
       "      <td>Cada balada, um visual\\n&lt;b&gt; A turma das raves ...</td>\n",
       "      <td>at2</td>\n",
       "    </tr>\n",
       "  </tbody>\n",
       "</table>\n",
       "</div>"
      ],
      "text/plain": [
       "                                                Text Class\n",
       "0  Testes nas famílias\\n<b> A pedido de A Tribuna...   at2\n",
       "1  Deu borboleta na moda\\n<b> A borboleta, que fo...   at2\n",
       "2  Roupas de malha vão à festa\\n<b> Se antes as p...   at2\n",
       "3  Chega de dor-de-cotovelo\\n<b> Com muito humor ...   at2\n",
       "4  Tom Cruise volta com tudo\\n<b> Ação sem fim e ...   at2\n",
       "5  Temporada de arraiás\\n<b> Sejam as tradicionai...   at2\n",
       "6  Bregas ontem, chiques hoje\\n<b> Ídolos no pass...   at2\n",
       "7  Picape boa de briga\\n<b> Testada por Sobre Rod...   sro\n",
       "8  Rita Cadilac vai se aposentar\\n<b> A ex-chacre...   at2\n",
       "9  Cada balada, um visual\\n<b> A turma das raves ...   at2"
      ]
     },
     "execution_count": 15,
     "metadata": {},
     "output_type": "execute_result"
    }
   ],
   "source": [
    "textDataDrame.head(10)"
   ]
  }
 ],
 "metadata": {
  "interpreter": {
   "hash": "63fd5069d213b44bf678585dea6b12cceca9941eaf7f819626cde1f2670de90d"
  },
  "kernelspec": {
   "display_name": "Python 3",
   "language": "python",
   "name": "python3"
  },
  "language_info": {
   "codemirror_mode": {
    "name": "ipython",
    "version": 3
   },
   "file_extension": ".py",
   "mimetype": "text/x-python",
   "name": "python",
   "nbconvert_exporter": "python",
   "pygments_lexer": "ipython3",
   "version": "3.8.5"
  }
 },
 "nbformat": 4,
 "nbformat_minor": 2
}
