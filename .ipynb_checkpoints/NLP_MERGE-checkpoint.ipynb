{
 "cells": [
  {
   "cell_type": "code",
   "execution_count": 142,
   "metadata": {},
   "outputs": [],
   "source": [
    "import warnings\n",
    "warnings.filterwarnings('ignore')\n",
    "import numpy as np\n",
    "import pandas as pd\n",
    "import os\n",
    "from tqdm import tqdm"
   ]
  },
  {
   "cell_type": "code",
   "execution_count": 86,
   "metadata": {},
   "outputs": [],
   "source": [
    "path = os.getcwd() + \"/atribuna/milarquivos\"\n",
    "content_file_array = []\n",
    "classifier_array = []"
   ]
  },
  {
   "cell_type": "markdown",
   "metadata": {},
   "source": [
    "## Construção do DataFrame"
   ]
  },
  {
   "cell_type": "code",
   "execution_count": 87,
   "metadata": {},
   "outputs": [],
   "source": [
    "def read_text(path, file_Name):\n",
    "    with open(path, encoding=\"latin-1\") as file:\n",
    "        content_file = file.read()\n",
    "        Build_DataFrame(content_file, file_Name)"
   ]
  },
  {
   "cell_type": "code",
   "execution_count": 88,
   "metadata": {},
   "outputs": [],
   "source": [
    "def GetClassifier(file_Name):\n",
    "    name_split =  file_Name.split(\".\")\n",
    "    first_name = name_split[0];\n",
    "    return first_name[(len(first_name) - 3) : len(first_name)]"
   ]
  },
  {
   "cell_type": "code",
   "execution_count": 89,
   "metadata": {},
   "outputs": [],
   "source": [
    "def Build_DataFrame(content_file, file_Name):\n",
    "    classifier =  GetClassifier(file_Name) \n",
    "    if(len(classifier) >= 3):        \n",
    "        classifier_array.append(classifier)\n",
    "        content_file_array.append(content_file)  "
   ]
  },
  {
   "cell_type": "code",
   "execution_count": 90,
   "metadata": {},
   "outputs": [
    {
     "name": "stderr",
     "output_type": "stream",
     "text": [
      "Carregar arquivos: 100%|███████████████████████████████████████████████████████████| 198/198 [00:00<00:00, 1153.08it/s]\n"
     ]
    }
   ],
   "source": [
    "for file_Name in tqdm(os.listdir(path), desc=\"Carregar arquivos\"):    \n",
    "    if file_Name.endswith(\".txt\"):\n",
    "        file_path = f\"{path}/{file_Name}\"\n",
    "      \n",
    "        # call read text file function\n",
    "        read_text(file_path, file_Name)"
   ]
  },
  {
   "cell_type": "code",
   "execution_count": 91,
   "metadata": {},
   "outputs": [],
   "source": [
    "textDataDrame =  pd.DataFrame({\"Text\":content_file_array, \"Class\":classifier_array})"
   ]
  },
  {
   "cell_type": "code",
   "execution_count": 92,
   "metadata": {},
   "outputs": [
    {
     "data": {
      "text/html": [
       "<div>\n",
       "<style scoped>\n",
       "    .dataframe tbody tr th:only-of-type {\n",
       "        vertical-align: middle;\n",
       "    }\n",
       "\n",
       "    .dataframe tbody tr th {\n",
       "        vertical-align: top;\n",
       "    }\n",
       "\n",
       "    .dataframe thead th {\n",
       "        text-align: right;\n",
       "    }\n",
       "</style>\n",
       "<table border=\"1\" class=\"dataframe\">\n",
       "  <thead>\n",
       "    <tr style=\"text-align: right;\">\n",
       "      <th></th>\n",
       "      <th>Text</th>\n",
       "      <th>Class</th>\n",
       "    </tr>\n",
       "  </thead>\n",
       "  <tbody>\n",
       "    <tr>\n",
       "      <th>0</th>\n",
       "      <td>Os aprovados (edital 002/2006)\\n&lt;b&gt;  &lt;/b&gt;&lt;br&gt;\\...</td>\n",
       "      <td>con</td>\n",
       "    </tr>\n",
       "    <tr>\n",
       "      <th>1</th>\n",
       "      <td>Agência de energia admite novo apagão\\n&lt;b&gt;  &lt;/...</td>\n",
       "      <td>eco</td>\n",
       "    </tr>\n",
       "    <tr>\n",
       "      <th>2</th>\n",
       "      <td>FGV garante que não há perigo \\n&lt;b&gt;  &lt;/b&gt;&lt;br&gt;\\...</td>\n",
       "      <td>eco</td>\n",
       "    </tr>\n",
       "    <tr>\n",
       "      <th>3</th>\n",
       "      <td>PAINEL S/A\\n&lt;b&gt;  &lt;/b&gt;&lt;br&gt;\\n &lt;br&gt;\\nInvestidor p...</td>\n",
       "      <td>eco</td>\n",
       "    </tr>\n",
       "    <tr>\n",
       "      <th>4</th>\n",
       "      <td>Resultado do concurso da Polícia Civil \\n&lt;b&gt;  ...</td>\n",
       "      <td>con</td>\n",
       "    </tr>\n",
       "    <tr>\n",
       "      <th>5</th>\n",
       "      <td>Consumidor melhora de vida\\n&lt;b&gt; As famílias\\nc...</td>\n",
       "      <td>eco</td>\n",
       "    </tr>\n",
       "    <tr>\n",
       "      <th>6</th>\n",
       "      <td>NOTAS\\n&lt;b&gt;  &lt;/b&gt;&lt;br&gt;\\n &lt;br&gt;\\nPetrobras acusada...</td>\n",
       "      <td>eco</td>\n",
       "    </tr>\n",
       "    <tr>\n",
       "      <th>7</th>\n",
       "      <td>Pane afeta rede de cabos\\n&lt;b&gt;  &lt;/b&gt;&lt;br&gt;\\n &lt;br&gt;...</td>\n",
       "      <td>eco</td>\n",
       "    </tr>\n",
       "    <tr>\n",
       "      <th>8</th>\n",
       "      <td>NOTAS\\n&lt;b&gt;  &lt;/b&gt;&lt;br&gt;\\n &lt;br&gt;\\nJustiça faz leilã...</td>\n",
       "      <td>eco</td>\n",
       "    </tr>\n",
       "    <tr>\n",
       "      <th>9</th>\n",
       "      <td>Blix desmente o governo americano \\n&lt;b&gt;  &lt;/b&gt;&lt;...</td>\n",
       "      <td>int</td>\n",
       "    </tr>\n",
       "  </tbody>\n",
       "</table>\n",
       "</div>"
      ],
      "text/plain": [
       "                                                Text Class\n",
       "0  Os aprovados (edital 002/2006)\\n<b>  </b><br>\\...   con\n",
       "1  Agência de energia admite novo apagão\\n<b>  </...   eco\n",
       "2  FGV garante que não há perigo \\n<b>  </b><br>\\...   eco\n",
       "3  PAINEL S/A\\n<b>  </b><br>\\n <br>\\nInvestidor p...   eco\n",
       "4  Resultado do concurso da Polícia Civil \\n<b>  ...   con\n",
       "5  Consumidor melhora de vida\\n<b> As famílias\\nc...   eco\n",
       "6  NOTAS\\n<b>  </b><br>\\n <br>\\nPetrobras acusada...   eco\n",
       "7  Pane afeta rede de cabos\\n<b>  </b><br>\\n <br>...   eco\n",
       "8  NOTAS\\n<b>  </b><br>\\n <br>\\nJustiça faz leilã...   eco\n",
       "9  Blix desmente o governo americano \\n<b>  </b><...   int"
      ]
     },
     "execution_count": 92,
     "metadata": {},
     "output_type": "execute_result"
    }
   ],
   "source": [
    "textDataDrame.head(10)"
   ]
  },
  {
   "cell_type": "markdown",
   "metadata": {},
   "source": [
    "# StopWords removing"
   ]
  },
  {
   "cell_type": "code",
   "execution_count": 93,
   "metadata": {},
   "outputs": [],
   "source": [
    "#!conda install unidecode\n",
    "\n",
    "import nltk\n",
    "import unidecode\n",
    "from bs4 import BeautifulSoup\n",
    "\n",
    "# nltk.download()\n",
    "#- averaged_perceptron_tagger\n",
    "# - floresta\n",
    "# - mac_morpho\n",
    "# - machado\n",
    "# - punkt\n",
    "# - stopwords\n",
    "# - wordnet\n",
    "# - words\n",
    "\n",
    "from nltk.tokenize import word_tokenize\n",
    "from nltk.tokenize import sent_tokenize\n",
    "from nltk.corpus import stopwords\n",
    "from nltk.tokenize import word_tokenize\n"
   ]
  },
  {
   "cell_type": "code",
   "execution_count": 94,
   "metadata": {},
   "outputs": [],
   "source": [
    "def addStopWordsToList(texto):\n",
    "    example_sent = texto\n",
    "    word_tokens = word_tokenize(example_sent)\n",
    "\n",
    "    filtered_sentence = [w for w in word_tokens if not w.lower() in stop_words]\n",
    "\n",
    "    filtered_sentence = \"\"\n",
    "\n",
    "    for w in word_tokens:\n",
    "        if w not in stop_words:\n",
    "            filtered_sentence += w + \" \"\n",
    "    return filtered_sentence.strip()"
   ]
  },
  {
   "cell_type": "code",
   "execution_count": 95,
   "metadata": {},
   "outputs": [],
   "source": [
    "stop_words = set(stopwords.words('portuguese'))\n",
    "def returnDataFrameStopWords(dataFrame):\n",
    "    dataReturn = pd.DataFrame()\n",
    "    for row in tqdm(dataFrame.itertuples(index=True, name='Pandas'), desc=\"Limpeza de texto\"):\n",
    "        Text = row.Text\n",
    "        Class = row.Class\n",
    "\n",
    "        Text = BeautifulSoup(Text, \"lxml\").text\n",
    "        Text = unidecode.unidecode(Text)\n",
    "        Text = addStopWordsToList(Text)\n",
    "        Text = Text.replace(\" . \",\" \")\n",
    "        Text = Text.replace(\" , \",\" \")\n",
    "        Text = Text.replace(\" - \",\" \")\n",
    "        Text = Text.replace(\" : \",\" \")\n",
    "        Text = Text.lower()\n",
    "\n",
    "        linha = pd.Series([Text, Class])\n",
    "        linha = pd.DataFrame([linha])\n",
    "        dataReturn = pd.concat([linha, dataReturn], ignore_index=True)\n",
    "\n",
    "    return dataReturn"
   ]
  },
  {
   "cell_type": "code",
   "execution_count": 96,
   "metadata": {},
   "outputs": [
    {
     "name": "stderr",
     "output_type": "stream",
     "text": [
      "Limpeza de texto: 198it [00:00, 207.31it/s]\n"
     ]
    }
   ],
   "source": [
    "df_text_clean = returnDataFrameStopWords(textDataDrame)"
   ]
  },
  {
   "cell_type": "markdown",
   "metadata": {},
   "source": [
    "## Fatores de Ponderação"
   ]
  },
  {
   "cell_type": "code",
   "execution_count": 97,
   "metadata": {
    "scrolled": false
   },
   "outputs": [
    {
     "data": {
      "text/html": [
       "<div>\n",
       "<style scoped>\n",
       "    .dataframe tbody tr th:only-of-type {\n",
       "        vertical-align: middle;\n",
       "    }\n",
       "\n",
       "    .dataframe tbody tr th {\n",
       "        vertical-align: top;\n",
       "    }\n",
       "\n",
       "    .dataframe thead th {\n",
       "        text-align: right;\n",
       "    }\n",
       "</style>\n",
       "<table border=\"1\" class=\"dataframe\">\n",
       "  <thead>\n",
       "    <tr style=\"text-align: right;\">\n",
       "      <th></th>\n",
       "      <th>Text</th>\n",
       "      <th>Class</th>\n",
       "    </tr>\n",
       "  </thead>\n",
       "  <tbody>\n",
       "    <tr>\n",
       "      <th>0</th>\n",
       "      <td>moqueca faz hartung cancelar agenda o governad...</td>\n",
       "      <td>pot</td>\n",
       "    </tr>\n",
       "    <tr>\n",
       "      <th>1</th>\n",
       "      <td>servidores fazem novo protesto mais vez servid...</td>\n",
       "      <td>pot</td>\n",
       "    </tr>\n",
       "    <tr>\n",
       "      <th>2</th>\n",
       "      <td>antecipada producao petrobras o presidente pet...</td>\n",
       "      <td>eco</td>\n",
       "    </tr>\n",
       "    <tr>\n",
       "      <th>3</th>\n",
       "      <td>governo faz cadastro sindicatos sao paulo o mi...</td>\n",
       "      <td>eco</td>\n",
       "    </tr>\n",
       "    <tr>\n",
       "      <th>4</th>\n",
       "      <td>panorama economico ano inclusao a coluna inaug...</td>\n",
       "      <td>eco</td>\n",
       "    </tr>\n",
       "  </tbody>\n",
       "</table>\n",
       "</div>"
      ],
      "text/plain": [
       "                                                Text Class\n",
       "0  moqueca faz hartung cancelar agenda o governad...   pot\n",
       "1  servidores fazem novo protesto mais vez servid...   pot\n",
       "2  antecipada producao petrobras o presidente pet...   eco\n",
       "3  governo faz cadastro sindicatos sao paulo o mi...   eco\n",
       "4  panorama economico ano inclusao a coluna inaug...   eco"
      ]
     },
     "execution_count": 97,
     "metadata": {},
     "output_type": "execute_result"
    }
   ],
   "source": [
    "df_text_clean = df_text_clean.rename(columns = {0: 'Text', 1: 'Class'}, inplace = False)\n",
    "df_text_clean.head()"
   ]
  },
  {
   "cell_type": "markdown",
   "metadata": {},
   "source": [
    "## Importando libs do scikit-learn"
   ]
  },
  {
   "cell_type": "code",
   "execution_count": 98,
   "metadata": {},
   "outputs": [],
   "source": [
    "from sklearn.feature_extraction.text import TfidfTransformer # tf-idf\n",
    "from sklearn.feature_extraction.text import CountVectorizer # tf"
   ]
  },
  {
   "cell_type": "markdown",
   "metadata": {},
   "source": [
    "## Criando a lista de classes"
   ]
  },
  {
   "cell_type": "code",
   "execution_count": 99,
   "metadata": {},
   "outputs": [],
   "source": [
    " classes =  [\"at2\",\"sro\",\"inf\",\"imo\",\"ept\",\"esp\",\"fam\",\"tvt\",\"cid\",\"mul\",\"pot\",\"tav\",\"mic\",\"opi\",\"poc\",\"reg\",\"eco\",\"bro\",\"cit\",\"con\",\"int\"]"
   ]
  },
  {
   "cell_type": "markdown",
   "metadata": {},
   "source": [
    "## TF"
   ]
  },
  {
   "cell_type": "code",
   "execution_count": 100,
   "metadata": {},
   "outputs": [],
   "source": [
    "vectorizer = CountVectorizer()\n",
    "TF = vectorizer.fit_transform(df_text_clean.Text)\n",
    "features_names =  vectorizer.get_feature_names()"
   ]
  },
  {
   "cell_type": "markdown",
   "metadata": {},
   "source": [
    "## TF-IDF"
   ]
  },
  {
   "cell_type": "code",
   "execution_count": 101,
   "metadata": {},
   "outputs": [],
   "source": [
    "from sklearn.pipeline import Pipeline"
   ]
  },
  {
   "cell_type": "code",
   "execution_count": 102,
   "metadata": {},
   "outputs": [],
   "source": [
    "pipe = Pipeline([('count', CountVectorizer(vocabulary=features_names)),\n",
    "                 ('tfid', TfidfTransformer())]).fit(df_text_clean.Text)"
   ]
  },
  {
   "cell_type": "markdown",
   "metadata": {},
   "source": [
    "# Lista de palavras"
   ]
  },
  {
   "cell_type": "code",
   "execution_count": 103,
   "metadata": {},
   "outputs": [
    {
     "name": "stderr",
     "output_type": "stream",
     "text": [
      "198it [00:01, 114.02it/s]\n"
     ]
    }
   ],
   "source": [
    "lista_palavras = []\n",
    "for row in tqdm(df_text_clean.itertuples(index=True, name='Pandas')):\n",
    "    palavras = row.Text.split(\" \")\n",
    "    for palavra in palavras:\n",
    "        if(not len(palavra) <= 2):\n",
    "            if(palavra not in lista_palavras):\n",
    "                lista_palavras.append(palavra)"
   ]
  },
  {
   "cell_type": "markdown",
   "metadata": {},
   "source": [
    "---"
   ]
  },
  {
   "cell_type": "markdown",
   "metadata": {},
   "source": [
    "# frequencia palavra por classe"
   ]
  },
  {
   "cell_type": "code",
   "execution_count": 104,
   "metadata": {},
   "outputs": [
    {
     "name": "stderr",
     "output_type": "stream",
     "text": [
      "100%|████████████████████████████████████████████████████████████████████████████████| 21/21 [00:00<00:00, 1614.97it/s]\n"
     ]
    }
   ],
   "source": [
    "dic_doc_class = {}\n",
    "\n",
    "for classe in tqdm(classes):\n",
    "    lista_doc = []\n",
    "    for row in df_text_clean.itertuples(index=True, name='Pandas'):  \n",
    "        if (str(classe) == row.Class):\n",
    "            lista_doc.append(row.Text)\n",
    "    dic_doc_class[f'{classe}'] = lista_doc"
   ]
  },
  {
   "cell_type": "code",
   "execution_count": 105,
   "metadata": {},
   "outputs": [],
   "source": [
    "from collections import Counter"
   ]
  },
  {
   "cell_type": "code",
   "execution_count": 106,
   "metadata": {},
   "outputs": [
    {
     "name": "stderr",
     "output_type": "stream",
     "text": [
      "classes: 100%|████████████████████████████████████████████████████████████████████████| 21/21 [00:00<00:00, 146.76it/s]\n"
     ]
    }
   ],
   "source": [
    "df_relacao_class = pd.DataFrame()\n",
    "df_relacao_class['Index'] = lista_palavras\n",
    "for key in tqdm(dic_doc_class,\"classes\"):\n",
    "    lista_docs =  dic_doc_class[key]\n",
    "    docs = \"\"\n",
    "    for doc in lista_docs:\n",
    "        docs += f' {doc}'\n",
    "        \n",
    "    lista_quant =[]\n",
    "    count = Counter(docs.split(\" \"))\n",
    "    for termo in lista_palavras:\n",
    "        quant = count[termo]\n",
    "        lista_quant.append(quant)\n",
    "        \n",
    "    df_relacao_class[f'{key}'] = lista_quant\n",
    "    \n",
    "    \n",
    "df_relacao_class = df_relacao_class.set_index('Index')"
   ]
  },
  {
   "cell_type": "code",
   "execution_count": 107,
   "metadata": {},
   "outputs": [
    {
     "data": {
      "text/html": [
       "<div>\n",
       "<style scoped>\n",
       "    .dataframe tbody tr th:only-of-type {\n",
       "        vertical-align: middle;\n",
       "    }\n",
       "\n",
       "    .dataframe tbody tr th {\n",
       "        vertical-align: top;\n",
       "    }\n",
       "\n",
       "    .dataframe thead th {\n",
       "        text-align: right;\n",
       "    }\n",
       "</style>\n",
       "<table border=\"1\" class=\"dataframe\">\n",
       "  <thead>\n",
       "    <tr style=\"text-align: right;\">\n",
       "      <th></th>\n",
       "      <th>at2</th>\n",
       "      <th>sro</th>\n",
       "      <th>inf</th>\n",
       "      <th>imo</th>\n",
       "      <th>ept</th>\n",
       "      <th>esp</th>\n",
       "      <th>fam</th>\n",
       "      <th>tvt</th>\n",
       "      <th>cid</th>\n",
       "      <th>mul</th>\n",
       "      <th>...</th>\n",
       "      <th>tav</th>\n",
       "      <th>mic</th>\n",
       "      <th>opi</th>\n",
       "      <th>poc</th>\n",
       "      <th>reg</th>\n",
       "      <th>eco</th>\n",
       "      <th>bro</th>\n",
       "      <th>cit</th>\n",
       "      <th>con</th>\n",
       "      <th>int</th>\n",
       "    </tr>\n",
       "    <tr>\n",
       "      <th>Index</th>\n",
       "      <th></th>\n",
       "      <th></th>\n",
       "      <th></th>\n",
       "      <th></th>\n",
       "      <th></th>\n",
       "      <th></th>\n",
       "      <th></th>\n",
       "      <th></th>\n",
       "      <th></th>\n",
       "      <th></th>\n",
       "      <th></th>\n",
       "      <th></th>\n",
       "      <th></th>\n",
       "      <th></th>\n",
       "      <th></th>\n",
       "      <th></th>\n",
       "      <th></th>\n",
       "      <th></th>\n",
       "      <th></th>\n",
       "      <th></th>\n",
       "      <th></th>\n",
       "    </tr>\n",
       "  </thead>\n",
       "  <tbody>\n",
       "    <tr>\n",
       "      <th>moqueca</th>\n",
       "      <td>0</td>\n",
       "      <td>0</td>\n",
       "      <td>0</td>\n",
       "      <td>0</td>\n",
       "      <td>0</td>\n",
       "      <td>0</td>\n",
       "      <td>0</td>\n",
       "      <td>0</td>\n",
       "      <td>0</td>\n",
       "      <td>0</td>\n",
       "      <td>...</td>\n",
       "      <td>0</td>\n",
       "      <td>0</td>\n",
       "      <td>0</td>\n",
       "      <td>0</td>\n",
       "      <td>0</td>\n",
       "      <td>0</td>\n",
       "      <td>0</td>\n",
       "      <td>0</td>\n",
       "      <td>0</td>\n",
       "      <td>0</td>\n",
       "    </tr>\n",
       "    <tr>\n",
       "      <th>faz</th>\n",
       "      <td>0</td>\n",
       "      <td>0</td>\n",
       "      <td>0</td>\n",
       "      <td>0</td>\n",
       "      <td>2</td>\n",
       "      <td>0</td>\n",
       "      <td>0</td>\n",
       "      <td>0</td>\n",
       "      <td>0</td>\n",
       "      <td>0</td>\n",
       "      <td>...</td>\n",
       "      <td>0</td>\n",
       "      <td>0</td>\n",
       "      <td>0</td>\n",
       "      <td>0</td>\n",
       "      <td>0</td>\n",
       "      <td>17</td>\n",
       "      <td>0</td>\n",
       "      <td>0</td>\n",
       "      <td>0</td>\n",
       "      <td>0</td>\n",
       "    </tr>\n",
       "    <tr>\n",
       "      <th>hartung</th>\n",
       "      <td>0</td>\n",
       "      <td>0</td>\n",
       "      <td>0</td>\n",
       "      <td>0</td>\n",
       "      <td>0</td>\n",
       "      <td>0</td>\n",
       "      <td>0</td>\n",
       "      <td>0</td>\n",
       "      <td>0</td>\n",
       "      <td>0</td>\n",
       "      <td>...</td>\n",
       "      <td>0</td>\n",
       "      <td>0</td>\n",
       "      <td>3</td>\n",
       "      <td>1</td>\n",
       "      <td>0</td>\n",
       "      <td>2</td>\n",
       "      <td>0</td>\n",
       "      <td>0</td>\n",
       "      <td>0</td>\n",
       "      <td>0</td>\n",
       "    </tr>\n",
       "    <tr>\n",
       "      <th>cancelar</th>\n",
       "      <td>0</td>\n",
       "      <td>0</td>\n",
       "      <td>0</td>\n",
       "      <td>0</td>\n",
       "      <td>0</td>\n",
       "      <td>0</td>\n",
       "      <td>0</td>\n",
       "      <td>0</td>\n",
       "      <td>0</td>\n",
       "      <td>0</td>\n",
       "      <td>...</td>\n",
       "      <td>0</td>\n",
       "      <td>0</td>\n",
       "      <td>0</td>\n",
       "      <td>0</td>\n",
       "      <td>0</td>\n",
       "      <td>0</td>\n",
       "      <td>0</td>\n",
       "      <td>0</td>\n",
       "      <td>0</td>\n",
       "      <td>0</td>\n",
       "    </tr>\n",
       "    <tr>\n",
       "      <th>agenda</th>\n",
       "      <td>0</td>\n",
       "      <td>0</td>\n",
       "      <td>0</td>\n",
       "      <td>0</td>\n",
       "      <td>0</td>\n",
       "      <td>0</td>\n",
       "      <td>0</td>\n",
       "      <td>0</td>\n",
       "      <td>0</td>\n",
       "      <td>0</td>\n",
       "      <td>...</td>\n",
       "      <td>0</td>\n",
       "      <td>0</td>\n",
       "      <td>0</td>\n",
       "      <td>0</td>\n",
       "      <td>0</td>\n",
       "      <td>5</td>\n",
       "      <td>0</td>\n",
       "      <td>0</td>\n",
       "      <td>0</td>\n",
       "      <td>0</td>\n",
       "    </tr>\n",
       "  </tbody>\n",
       "</table>\n",
       "<p>5 rows × 21 columns</p>\n",
       "</div>"
      ],
      "text/plain": [
       "          at2  sro  inf  imo  ept  esp  fam  tvt  cid  mul ...   tav  mic  \\\n",
       "Index                                                      ...              \n",
       "moqueca     0    0    0    0    0    0    0    0    0    0 ...     0    0   \n",
       "faz         0    0    0    0    2    0    0    0    0    0 ...     0    0   \n",
       "hartung     0    0    0    0    0    0    0    0    0    0 ...     0    0   \n",
       "cancelar    0    0    0    0    0    0    0    0    0    0 ...     0    0   \n",
       "agenda      0    0    0    0    0    0    0    0    0    0 ...     0    0   \n",
       "\n",
       "          opi  poc  reg  eco  bro  cit  con  int  \n",
       "Index                                             \n",
       "moqueca     0    0    0    0    0    0    0    0  \n",
       "faz         0    0    0   17    0    0    0    0  \n",
       "hartung     3    1    0    2    0    0    0    0  \n",
       "cancelar    0    0    0    0    0    0    0    0  \n",
       "agenda      0    0    0    5    0    0    0    0  \n",
       "\n",
       "[5 rows x 21 columns]"
      ]
     },
     "execution_count": 107,
     "metadata": {},
     "output_type": "execute_result"
    }
   ],
   "source": [
    "df_relacao_class.head()"
   ]
  },
  {
   "cell_type": "markdown",
   "metadata": {},
   "source": [
    "# ni - o numero  de documentos em que um determinado termo ki aparece"
   ]
  },
  {
   "cell_type": "code",
   "execution_count": 108,
   "metadata": {},
   "outputs": [
    {
     "name": "stderr",
     "output_type": "stream",
     "text": [
      "100%|██████████████████████████████████████████████████████████████████████████| 13356/13356 [00:11<00:00, 1137.86it/s]\n"
     ]
    }
   ],
   "source": [
    "dic_ni = {}\n",
    "\n",
    "for termo in tqdm(lista_palavras):\n",
    "    quant = 0 \n",
    "    for row in df_text_clean.itertuples(index=True, name='Pandas'):\n",
    "        doc = row.Text\n",
    "        if(termo in doc):\n",
    "            quant += 1\n",
    "    dic_ni[f'{termo}'] = quant"
   ]
  },
  {
   "cell_type": "markdown",
   "metadata": {},
   "source": [
    "# a - quantidade de documentos que pertence a uma classe e posuem o termo ki\n",
    "\n",
    "#  c - o numero  de documentos que pertencem a Cp, mas não possuem o termo ki "
   ]
  },
  {
   "cell_type": "code",
   "execution_count": 109,
   "metadata": {},
   "outputs": [
    {
     "name": "stderr",
     "output_type": "stream",
     "text": [
      "100%|██████████████████████████████████████████████████████████████████████████████████| 21/21 [00:04<00:00,  4.98it/s]\n"
     ]
    }
   ],
   "source": [
    "df_a = pd.DataFrame()\n",
    "df_a['Index'] = lista_palavras\n",
    "\n",
    "df_c = pd.DataFrame()\n",
    "df_c['Index'] = lista_palavras\n",
    "\n",
    "for key in tqdm(dic_doc_class):\n",
    "    lista_docs =  dic_doc_class[key]\n",
    "    lista_quant_a =[]\n",
    "    lista_quant_c =[]\n",
    "\n",
    "    for termo in lista_palavras:\n",
    "        quant_a = 0\n",
    "        quant_c = 0\n",
    "        \n",
    "        for doc in lista_docs:\n",
    "            if(termo in doc):\n",
    "                quant_a += 1\n",
    "            else:\n",
    "                quant_c += 1\n",
    "                \n",
    "        lista_quant_a.append(quant_a)\n",
    "        lista_quant_c.append(quant_c)\n",
    "        \n",
    "    df_a[f'{key}'] = lista_quant_a\n",
    "    df_c[f'{key}'] = lista_quant_c\n",
    "    \n",
    "    \n",
    "df_a = df_a.set_index('Index')\n",
    "df_c = df_c.set_index('Index')"
   ]
  },
  {
   "cell_type": "markdown",
   "metadata": {},
   "source": [
    "# df_a"
   ]
  },
  {
   "cell_type": "code",
   "execution_count": 110,
   "metadata": {},
   "outputs": [
    {
     "data": {
      "text/html": [
       "<div>\n",
       "<style scoped>\n",
       "    .dataframe tbody tr th:only-of-type {\n",
       "        vertical-align: middle;\n",
       "    }\n",
       "\n",
       "    .dataframe tbody tr th {\n",
       "        vertical-align: top;\n",
       "    }\n",
       "\n",
       "    .dataframe thead th {\n",
       "        text-align: right;\n",
       "    }\n",
       "</style>\n",
       "<table border=\"1\" class=\"dataframe\">\n",
       "  <thead>\n",
       "    <tr style=\"text-align: right;\">\n",
       "      <th></th>\n",
       "      <th>at2</th>\n",
       "      <th>sro</th>\n",
       "      <th>inf</th>\n",
       "      <th>imo</th>\n",
       "      <th>ept</th>\n",
       "      <th>esp</th>\n",
       "      <th>fam</th>\n",
       "      <th>tvt</th>\n",
       "      <th>cid</th>\n",
       "      <th>mul</th>\n",
       "      <th>...</th>\n",
       "      <th>tav</th>\n",
       "      <th>mic</th>\n",
       "      <th>opi</th>\n",
       "      <th>poc</th>\n",
       "      <th>reg</th>\n",
       "      <th>eco</th>\n",
       "      <th>bro</th>\n",
       "      <th>cit</th>\n",
       "      <th>con</th>\n",
       "      <th>int</th>\n",
       "    </tr>\n",
       "    <tr>\n",
       "      <th>Index</th>\n",
       "      <th></th>\n",
       "      <th></th>\n",
       "      <th></th>\n",
       "      <th></th>\n",
       "      <th></th>\n",
       "      <th></th>\n",
       "      <th></th>\n",
       "      <th></th>\n",
       "      <th></th>\n",
       "      <th></th>\n",
       "      <th></th>\n",
       "      <th></th>\n",
       "      <th></th>\n",
       "      <th></th>\n",
       "      <th></th>\n",
       "      <th></th>\n",
       "      <th></th>\n",
       "      <th></th>\n",
       "      <th></th>\n",
       "      <th></th>\n",
       "      <th></th>\n",
       "    </tr>\n",
       "  </thead>\n",
       "  <tbody>\n",
       "    <tr>\n",
       "      <th>moqueca</th>\n",
       "      <td>0</td>\n",
       "      <td>0</td>\n",
       "      <td>0</td>\n",
       "      <td>0</td>\n",
       "      <td>0</td>\n",
       "      <td>0</td>\n",
       "      <td>0</td>\n",
       "      <td>0</td>\n",
       "      <td>0</td>\n",
       "      <td>0</td>\n",
       "      <td>...</td>\n",
       "      <td>0</td>\n",
       "      <td>0</td>\n",
       "      <td>0</td>\n",
       "      <td>0</td>\n",
       "      <td>0</td>\n",
       "      <td>0</td>\n",
       "      <td>0</td>\n",
       "      <td>0</td>\n",
       "      <td>0</td>\n",
       "      <td>0</td>\n",
       "    </tr>\n",
       "    <tr>\n",
       "      <th>faz</th>\n",
       "      <td>0</td>\n",
       "      <td>0</td>\n",
       "      <td>0</td>\n",
       "      <td>0</td>\n",
       "      <td>6</td>\n",
       "      <td>0</td>\n",
       "      <td>0</td>\n",
       "      <td>0</td>\n",
       "      <td>0</td>\n",
       "      <td>0</td>\n",
       "      <td>...</td>\n",
       "      <td>0</td>\n",
       "      <td>0</td>\n",
       "      <td>1</td>\n",
       "      <td>2</td>\n",
       "      <td>0</td>\n",
       "      <td>46</td>\n",
       "      <td>0</td>\n",
       "      <td>0</td>\n",
       "      <td>0</td>\n",
       "      <td>0</td>\n",
       "    </tr>\n",
       "    <tr>\n",
       "      <th>hartung</th>\n",
       "      <td>0</td>\n",
       "      <td>0</td>\n",
       "      <td>0</td>\n",
       "      <td>0</td>\n",
       "      <td>0</td>\n",
       "      <td>0</td>\n",
       "      <td>0</td>\n",
       "      <td>0</td>\n",
       "      <td>0</td>\n",
       "      <td>0</td>\n",
       "      <td>...</td>\n",
       "      <td>0</td>\n",
       "      <td>0</td>\n",
       "      <td>1</td>\n",
       "      <td>1</td>\n",
       "      <td>0</td>\n",
       "      <td>2</td>\n",
       "      <td>0</td>\n",
       "      <td>0</td>\n",
       "      <td>0</td>\n",
       "      <td>0</td>\n",
       "    </tr>\n",
       "    <tr>\n",
       "      <th>cancelar</th>\n",
       "      <td>0</td>\n",
       "      <td>0</td>\n",
       "      <td>0</td>\n",
       "      <td>0</td>\n",
       "      <td>0</td>\n",
       "      <td>0</td>\n",
       "      <td>0</td>\n",
       "      <td>0</td>\n",
       "      <td>0</td>\n",
       "      <td>0</td>\n",
       "      <td>...</td>\n",
       "      <td>0</td>\n",
       "      <td>0</td>\n",
       "      <td>0</td>\n",
       "      <td>0</td>\n",
       "      <td>0</td>\n",
       "      <td>0</td>\n",
       "      <td>0</td>\n",
       "      <td>0</td>\n",
       "      <td>0</td>\n",
       "      <td>0</td>\n",
       "    </tr>\n",
       "    <tr>\n",
       "      <th>agenda</th>\n",
       "      <td>0</td>\n",
       "      <td>0</td>\n",
       "      <td>0</td>\n",
       "      <td>0</td>\n",
       "      <td>0</td>\n",
       "      <td>0</td>\n",
       "      <td>0</td>\n",
       "      <td>0</td>\n",
       "      <td>0</td>\n",
       "      <td>0</td>\n",
       "      <td>...</td>\n",
       "      <td>0</td>\n",
       "      <td>0</td>\n",
       "      <td>0</td>\n",
       "      <td>0</td>\n",
       "      <td>0</td>\n",
       "      <td>7</td>\n",
       "      <td>0</td>\n",
       "      <td>0</td>\n",
       "      <td>0</td>\n",
       "      <td>0</td>\n",
       "    </tr>\n",
       "  </tbody>\n",
       "</table>\n",
       "<p>5 rows × 21 columns</p>\n",
       "</div>"
      ],
      "text/plain": [
       "          at2  sro  inf  imo  ept  esp  fam  tvt  cid  mul ...   tav  mic  \\\n",
       "Index                                                      ...              \n",
       "moqueca     0    0    0    0    0    0    0    0    0    0 ...     0    0   \n",
       "faz         0    0    0    0    6    0    0    0    0    0 ...     0    0   \n",
       "hartung     0    0    0    0    0    0    0    0    0    0 ...     0    0   \n",
       "cancelar    0    0    0    0    0    0    0    0    0    0 ...     0    0   \n",
       "agenda      0    0    0    0    0    0    0    0    0    0 ...     0    0   \n",
       "\n",
       "          opi  poc  reg  eco  bro  cit  con  int  \n",
       "Index                                             \n",
       "moqueca     0    0    0    0    0    0    0    0  \n",
       "faz         1    2    0   46    0    0    0    0  \n",
       "hartung     1    1    0    2    0    0    0    0  \n",
       "cancelar    0    0    0    0    0    0    0    0  \n",
       "agenda      0    0    0    7    0    0    0    0  \n",
       "\n",
       "[5 rows x 21 columns]"
      ]
     },
     "execution_count": 110,
     "metadata": {},
     "output_type": "execute_result"
    }
   ],
   "source": [
    "df_a.head()"
   ]
  },
  {
   "cell_type": "markdown",
   "metadata": {},
   "source": [
    "# df_c"
   ]
  },
  {
   "cell_type": "code",
   "execution_count": 111,
   "metadata": {},
   "outputs": [
    {
     "data": {
      "text/html": [
       "<div>\n",
       "<style scoped>\n",
       "    .dataframe tbody tr th:only-of-type {\n",
       "        vertical-align: middle;\n",
       "    }\n",
       "\n",
       "    .dataframe tbody tr th {\n",
       "        vertical-align: top;\n",
       "    }\n",
       "\n",
       "    .dataframe thead th {\n",
       "        text-align: right;\n",
       "    }\n",
       "</style>\n",
       "<table border=\"1\" class=\"dataframe\">\n",
       "  <thead>\n",
       "    <tr style=\"text-align: right;\">\n",
       "      <th></th>\n",
       "      <th>at2</th>\n",
       "      <th>sro</th>\n",
       "      <th>inf</th>\n",
       "      <th>imo</th>\n",
       "      <th>ept</th>\n",
       "      <th>esp</th>\n",
       "      <th>fam</th>\n",
       "      <th>tvt</th>\n",
       "      <th>cid</th>\n",
       "      <th>mul</th>\n",
       "      <th>...</th>\n",
       "      <th>tav</th>\n",
       "      <th>mic</th>\n",
       "      <th>opi</th>\n",
       "      <th>poc</th>\n",
       "      <th>reg</th>\n",
       "      <th>eco</th>\n",
       "      <th>bro</th>\n",
       "      <th>cit</th>\n",
       "      <th>con</th>\n",
       "      <th>int</th>\n",
       "    </tr>\n",
       "    <tr>\n",
       "      <th>Index</th>\n",
       "      <th></th>\n",
       "      <th></th>\n",
       "      <th></th>\n",
       "      <th></th>\n",
       "      <th></th>\n",
       "      <th></th>\n",
       "      <th></th>\n",
       "      <th></th>\n",
       "      <th></th>\n",
       "      <th></th>\n",
       "      <th></th>\n",
       "      <th></th>\n",
       "      <th></th>\n",
       "      <th></th>\n",
       "      <th></th>\n",
       "      <th></th>\n",
       "      <th></th>\n",
       "      <th></th>\n",
       "      <th></th>\n",
       "      <th></th>\n",
       "      <th></th>\n",
       "    </tr>\n",
       "  </thead>\n",
       "  <tbody>\n",
       "    <tr>\n",
       "      <th>moqueca</th>\n",
       "      <td>0</td>\n",
       "      <td>0</td>\n",
       "      <td>0</td>\n",
       "      <td>0</td>\n",
       "      <td>18</td>\n",
       "      <td>2</td>\n",
       "      <td>0</td>\n",
       "      <td>0</td>\n",
       "      <td>0</td>\n",
       "      <td>0</td>\n",
       "      <td>...</td>\n",
       "      <td>0</td>\n",
       "      <td>0</td>\n",
       "      <td>3</td>\n",
       "      <td>2</td>\n",
       "      <td>0</td>\n",
       "      <td>92</td>\n",
       "      <td>0</td>\n",
       "      <td>0</td>\n",
       "      <td>3</td>\n",
       "      <td>2</td>\n",
       "    </tr>\n",
       "    <tr>\n",
       "      <th>faz</th>\n",
       "      <td>0</td>\n",
       "      <td>0</td>\n",
       "      <td>0</td>\n",
       "      <td>0</td>\n",
       "      <td>12</td>\n",
       "      <td>2</td>\n",
       "      <td>0</td>\n",
       "      <td>0</td>\n",
       "      <td>0</td>\n",
       "      <td>0</td>\n",
       "      <td>...</td>\n",
       "      <td>0</td>\n",
       "      <td>0</td>\n",
       "      <td>2</td>\n",
       "      <td>0</td>\n",
       "      <td>0</td>\n",
       "      <td>46</td>\n",
       "      <td>0</td>\n",
       "      <td>0</td>\n",
       "      <td>3</td>\n",
       "      <td>2</td>\n",
       "    </tr>\n",
       "    <tr>\n",
       "      <th>hartung</th>\n",
       "      <td>0</td>\n",
       "      <td>0</td>\n",
       "      <td>0</td>\n",
       "      <td>0</td>\n",
       "      <td>18</td>\n",
       "      <td>2</td>\n",
       "      <td>0</td>\n",
       "      <td>0</td>\n",
       "      <td>0</td>\n",
       "      <td>0</td>\n",
       "      <td>...</td>\n",
       "      <td>0</td>\n",
       "      <td>0</td>\n",
       "      <td>2</td>\n",
       "      <td>1</td>\n",
       "      <td>0</td>\n",
       "      <td>90</td>\n",
       "      <td>0</td>\n",
       "      <td>0</td>\n",
       "      <td>3</td>\n",
       "      <td>2</td>\n",
       "    </tr>\n",
       "    <tr>\n",
       "      <th>cancelar</th>\n",
       "      <td>0</td>\n",
       "      <td>0</td>\n",
       "      <td>0</td>\n",
       "      <td>0</td>\n",
       "      <td>18</td>\n",
       "      <td>2</td>\n",
       "      <td>0</td>\n",
       "      <td>0</td>\n",
       "      <td>0</td>\n",
       "      <td>0</td>\n",
       "      <td>...</td>\n",
       "      <td>0</td>\n",
       "      <td>0</td>\n",
       "      <td>3</td>\n",
       "      <td>2</td>\n",
       "      <td>0</td>\n",
       "      <td>92</td>\n",
       "      <td>0</td>\n",
       "      <td>0</td>\n",
       "      <td>3</td>\n",
       "      <td>2</td>\n",
       "    </tr>\n",
       "    <tr>\n",
       "      <th>agenda</th>\n",
       "      <td>0</td>\n",
       "      <td>0</td>\n",
       "      <td>0</td>\n",
       "      <td>0</td>\n",
       "      <td>18</td>\n",
       "      <td>2</td>\n",
       "      <td>0</td>\n",
       "      <td>0</td>\n",
       "      <td>0</td>\n",
       "      <td>0</td>\n",
       "      <td>...</td>\n",
       "      <td>0</td>\n",
       "      <td>0</td>\n",
       "      <td>3</td>\n",
       "      <td>2</td>\n",
       "      <td>0</td>\n",
       "      <td>85</td>\n",
       "      <td>0</td>\n",
       "      <td>0</td>\n",
       "      <td>3</td>\n",
       "      <td>2</td>\n",
       "    </tr>\n",
       "  </tbody>\n",
       "</table>\n",
       "<p>5 rows × 21 columns</p>\n",
       "</div>"
      ],
      "text/plain": [
       "          at2  sro  inf  imo  ept  esp  fam  tvt  cid  mul ...   tav  mic  \\\n",
       "Index                                                      ...              \n",
       "moqueca     0    0    0    0   18    2    0    0    0    0 ...     0    0   \n",
       "faz         0    0    0    0   12    2    0    0    0    0 ...     0    0   \n",
       "hartung     0    0    0    0   18    2    0    0    0    0 ...     0    0   \n",
       "cancelar    0    0    0    0   18    2    0    0    0    0 ...     0    0   \n",
       "agenda      0    0    0    0   18    2    0    0    0    0 ...     0    0   \n",
       "\n",
       "          opi  poc  reg  eco  bro  cit  con  int  \n",
       "Index                                             \n",
       "moqueca     3    2    0   92    0    0    3    2  \n",
       "faz         2    0    0   46    0    0    3    2  \n",
       "hartung     2    1    0   90    0    0    3    2  \n",
       "cancelar    3    2    0   92    0    0    3    2  \n",
       "agenda      3    2    0   85    0    0    3    2  \n",
       "\n",
       "[5 rows x 21 columns]"
      ]
     },
     "execution_count": 111,
     "metadata": {},
     "output_type": "execute_result"
    }
   ],
   "source": [
    "df_c.head()"
   ]
  },
  {
   "cell_type": "markdown",
   "metadata": {},
   "source": [
    "# b - a quantidade de documentos que possuem o termo ki, mas não pertence a Cp"
   ]
  },
  {
   "cell_type": "markdown",
   "metadata": {},
   "source": [
    "# d o numero de documentos que não possuem ki e não pertencem a Cp.\n"
   ]
  },
  {
   "cell_type": "code",
   "execution_count": 112,
   "metadata": {},
   "outputs": [
    {
     "name": "stderr",
     "output_type": "stream",
     "text": [
      "100%|██████████████████████████████████████████████████████████████████████████████████| 21/21 [01:21<00:00,  3.89s/it]\n"
     ]
    }
   ],
   "source": [
    "df_b = pd.DataFrame()\n",
    "df_b['Index'] = lista_palavras\n",
    "\n",
    "df_d = pd.DataFrame()\n",
    "df_d['Index'] = lista_palavras\n",
    "\n",
    "for key in tqdm(dic_doc_class):\n",
    "    lista_quant_b =[]\n",
    "    lista_quant_d =[]\n",
    "    \n",
    "    for termo in lista_palavras:\n",
    "        quant_b = 0\n",
    "        quant_d = 0\n",
    "        for classe in classes:\n",
    "            if(classe != key):\n",
    "                lista_docs =  dic_doc_class[classe]\n",
    "                \n",
    "                for doc in lista_docs:\n",
    "                    if(termo in doc):\n",
    "                        quant_b += 1\n",
    "                    else:\n",
    "                        quant_d += 1\n",
    "                        \n",
    "        lista_quant_b.append(quant_b)\n",
    "        lista_quant_d.append(quant_d)\n",
    "        \n",
    "    df_b[f'{key}'] = lista_quant_b\n",
    "    df_d[f'{key}'] = lista_quant_d\n",
    "    \n",
    "df_b = df_b.set_index('Index')\n",
    "df_d = df_d.set_index('Index')"
   ]
  },
  {
   "cell_type": "markdown",
   "metadata": {},
   "source": [
    "# df_b"
   ]
  },
  {
   "cell_type": "code",
   "execution_count": 113,
   "metadata": {},
   "outputs": [
    {
     "data": {
      "text/html": [
       "<div>\n",
       "<style scoped>\n",
       "    .dataframe tbody tr th:only-of-type {\n",
       "        vertical-align: middle;\n",
       "    }\n",
       "\n",
       "    .dataframe tbody tr th {\n",
       "        vertical-align: top;\n",
       "    }\n",
       "\n",
       "    .dataframe thead th {\n",
       "        text-align: right;\n",
       "    }\n",
       "</style>\n",
       "<table border=\"1\" class=\"dataframe\">\n",
       "  <thead>\n",
       "    <tr style=\"text-align: right;\">\n",
       "      <th></th>\n",
       "      <th>at2</th>\n",
       "      <th>sro</th>\n",
       "      <th>inf</th>\n",
       "      <th>imo</th>\n",
       "      <th>ept</th>\n",
       "      <th>esp</th>\n",
       "      <th>fam</th>\n",
       "      <th>tvt</th>\n",
       "      <th>cid</th>\n",
       "      <th>mul</th>\n",
       "      <th>...</th>\n",
       "      <th>tav</th>\n",
       "      <th>mic</th>\n",
       "      <th>opi</th>\n",
       "      <th>poc</th>\n",
       "      <th>reg</th>\n",
       "      <th>eco</th>\n",
       "      <th>bro</th>\n",
       "      <th>cit</th>\n",
       "      <th>con</th>\n",
       "      <th>int</th>\n",
       "    </tr>\n",
       "    <tr>\n",
       "      <th>Index</th>\n",
       "      <th></th>\n",
       "      <th></th>\n",
       "      <th></th>\n",
       "      <th></th>\n",
       "      <th></th>\n",
       "      <th></th>\n",
       "      <th></th>\n",
       "      <th></th>\n",
       "      <th></th>\n",
       "      <th></th>\n",
       "      <th></th>\n",
       "      <th></th>\n",
       "      <th></th>\n",
       "      <th></th>\n",
       "      <th></th>\n",
       "      <th></th>\n",
       "      <th></th>\n",
       "      <th></th>\n",
       "      <th></th>\n",
       "      <th></th>\n",
       "      <th></th>\n",
       "    </tr>\n",
       "  </thead>\n",
       "  <tbody>\n",
       "    <tr>\n",
       "      <th>moqueca</th>\n",
       "      <td>2</td>\n",
       "      <td>2</td>\n",
       "      <td>2</td>\n",
       "      <td>2</td>\n",
       "      <td>2</td>\n",
       "      <td>2</td>\n",
       "      <td>2</td>\n",
       "      <td>2</td>\n",
       "      <td>2</td>\n",
       "      <td>2</td>\n",
       "      <td>...</td>\n",
       "      <td>2</td>\n",
       "      <td>2</td>\n",
       "      <td>2</td>\n",
       "      <td>2</td>\n",
       "      <td>2</td>\n",
       "      <td>2</td>\n",
       "      <td>2</td>\n",
       "      <td>2</td>\n",
       "      <td>2</td>\n",
       "      <td>2</td>\n",
       "    </tr>\n",
       "    <tr>\n",
       "      <th>faz</th>\n",
       "      <td>91</td>\n",
       "      <td>91</td>\n",
       "      <td>91</td>\n",
       "      <td>91</td>\n",
       "      <td>85</td>\n",
       "      <td>91</td>\n",
       "      <td>91</td>\n",
       "      <td>91</td>\n",
       "      <td>91</td>\n",
       "      <td>91</td>\n",
       "      <td>...</td>\n",
       "      <td>91</td>\n",
       "      <td>91</td>\n",
       "      <td>90</td>\n",
       "      <td>89</td>\n",
       "      <td>91</td>\n",
       "      <td>45</td>\n",
       "      <td>91</td>\n",
       "      <td>91</td>\n",
       "      <td>91</td>\n",
       "      <td>91</td>\n",
       "    </tr>\n",
       "    <tr>\n",
       "      <th>hartung</th>\n",
       "      <td>24</td>\n",
       "      <td>24</td>\n",
       "      <td>24</td>\n",
       "      <td>24</td>\n",
       "      <td>24</td>\n",
       "      <td>24</td>\n",
       "      <td>24</td>\n",
       "      <td>24</td>\n",
       "      <td>24</td>\n",
       "      <td>24</td>\n",
       "      <td>...</td>\n",
       "      <td>24</td>\n",
       "      <td>24</td>\n",
       "      <td>23</td>\n",
       "      <td>23</td>\n",
       "      <td>24</td>\n",
       "      <td>22</td>\n",
       "      <td>24</td>\n",
       "      <td>24</td>\n",
       "      <td>24</td>\n",
       "      <td>24</td>\n",
       "    </tr>\n",
       "    <tr>\n",
       "      <th>cancelar</th>\n",
       "      <td>2</td>\n",
       "      <td>2</td>\n",
       "      <td>2</td>\n",
       "      <td>2</td>\n",
       "      <td>2</td>\n",
       "      <td>2</td>\n",
       "      <td>2</td>\n",
       "      <td>2</td>\n",
       "      <td>2</td>\n",
       "      <td>2</td>\n",
       "      <td>...</td>\n",
       "      <td>2</td>\n",
       "      <td>2</td>\n",
       "      <td>2</td>\n",
       "      <td>2</td>\n",
       "      <td>2</td>\n",
       "      <td>2</td>\n",
       "      <td>2</td>\n",
       "      <td>2</td>\n",
       "      <td>2</td>\n",
       "      <td>2</td>\n",
       "    </tr>\n",
       "    <tr>\n",
       "      <th>agenda</th>\n",
       "      <td>19</td>\n",
       "      <td>19</td>\n",
       "      <td>19</td>\n",
       "      <td>19</td>\n",
       "      <td>19</td>\n",
       "      <td>19</td>\n",
       "      <td>19</td>\n",
       "      <td>19</td>\n",
       "      <td>19</td>\n",
       "      <td>19</td>\n",
       "      <td>...</td>\n",
       "      <td>19</td>\n",
       "      <td>19</td>\n",
       "      <td>19</td>\n",
       "      <td>19</td>\n",
       "      <td>19</td>\n",
       "      <td>12</td>\n",
       "      <td>19</td>\n",
       "      <td>19</td>\n",
       "      <td>19</td>\n",
       "      <td>19</td>\n",
       "    </tr>\n",
       "  </tbody>\n",
       "</table>\n",
       "<p>5 rows × 21 columns</p>\n",
       "</div>"
      ],
      "text/plain": [
       "          at2  sro  inf  imo  ept  esp  fam  tvt  cid  mul ...   tav  mic  \\\n",
       "Index                                                      ...              \n",
       "moqueca     2    2    2    2    2    2    2    2    2    2 ...     2    2   \n",
       "faz        91   91   91   91   85   91   91   91   91   91 ...    91   91   \n",
       "hartung    24   24   24   24   24   24   24   24   24   24 ...    24   24   \n",
       "cancelar    2    2    2    2    2    2    2    2    2    2 ...     2    2   \n",
       "agenda     19   19   19   19   19   19   19   19   19   19 ...    19   19   \n",
       "\n",
       "          opi  poc  reg  eco  bro  cit  con  int  \n",
       "Index                                             \n",
       "moqueca     2    2    2    2    2    2    2    2  \n",
       "faz        90   89   91   45   91   91   91   91  \n",
       "hartung    23   23   24   22   24   24   24   24  \n",
       "cancelar    2    2    2    2    2    2    2    2  \n",
       "agenda     19   19   19   12   19   19   19   19  \n",
       "\n",
       "[5 rows x 21 columns]"
      ]
     },
     "execution_count": 113,
     "metadata": {},
     "output_type": "execute_result"
    }
   ],
   "source": [
    "df_b.head()"
   ]
  },
  {
   "cell_type": "markdown",
   "metadata": {},
   "source": [
    "# df_d"
   ]
  },
  {
   "cell_type": "code",
   "execution_count": 114,
   "metadata": {},
   "outputs": [
    {
     "data": {
      "text/html": [
       "<div>\n",
       "<style scoped>\n",
       "    .dataframe tbody tr th:only-of-type {\n",
       "        vertical-align: middle;\n",
       "    }\n",
       "\n",
       "    .dataframe tbody tr th {\n",
       "        vertical-align: top;\n",
       "    }\n",
       "\n",
       "    .dataframe thead th {\n",
       "        text-align: right;\n",
       "    }\n",
       "</style>\n",
       "<table border=\"1\" class=\"dataframe\">\n",
       "  <thead>\n",
       "    <tr style=\"text-align: right;\">\n",
       "      <th></th>\n",
       "      <th>at2</th>\n",
       "      <th>sro</th>\n",
       "      <th>inf</th>\n",
       "      <th>imo</th>\n",
       "      <th>ept</th>\n",
       "      <th>esp</th>\n",
       "      <th>fam</th>\n",
       "      <th>tvt</th>\n",
       "      <th>cid</th>\n",
       "      <th>mul</th>\n",
       "      <th>...</th>\n",
       "      <th>tav</th>\n",
       "      <th>mic</th>\n",
       "      <th>opi</th>\n",
       "      <th>poc</th>\n",
       "      <th>reg</th>\n",
       "      <th>eco</th>\n",
       "      <th>bro</th>\n",
       "      <th>cit</th>\n",
       "      <th>con</th>\n",
       "      <th>int</th>\n",
       "    </tr>\n",
       "    <tr>\n",
       "      <th>Index</th>\n",
       "      <th></th>\n",
       "      <th></th>\n",
       "      <th></th>\n",
       "      <th></th>\n",
       "      <th></th>\n",
       "      <th></th>\n",
       "      <th></th>\n",
       "      <th></th>\n",
       "      <th></th>\n",
       "      <th></th>\n",
       "      <th></th>\n",
       "      <th></th>\n",
       "      <th></th>\n",
       "      <th></th>\n",
       "      <th></th>\n",
       "      <th></th>\n",
       "      <th></th>\n",
       "      <th></th>\n",
       "      <th></th>\n",
       "      <th></th>\n",
       "      <th></th>\n",
       "    </tr>\n",
       "  </thead>\n",
       "  <tbody>\n",
       "    <tr>\n",
       "      <th>moqueca</th>\n",
       "      <td>196</td>\n",
       "      <td>196</td>\n",
       "      <td>196</td>\n",
       "      <td>196</td>\n",
       "      <td>178</td>\n",
       "      <td>194</td>\n",
       "      <td>196</td>\n",
       "      <td>196</td>\n",
       "      <td>196</td>\n",
       "      <td>196</td>\n",
       "      <td>...</td>\n",
       "      <td>196</td>\n",
       "      <td>196</td>\n",
       "      <td>193</td>\n",
       "      <td>194</td>\n",
       "      <td>196</td>\n",
       "      <td>104</td>\n",
       "      <td>196</td>\n",
       "      <td>196</td>\n",
       "      <td>193</td>\n",
       "      <td>194</td>\n",
       "    </tr>\n",
       "    <tr>\n",
       "      <th>faz</th>\n",
       "      <td>107</td>\n",
       "      <td>107</td>\n",
       "      <td>107</td>\n",
       "      <td>107</td>\n",
       "      <td>95</td>\n",
       "      <td>105</td>\n",
       "      <td>107</td>\n",
       "      <td>107</td>\n",
       "      <td>107</td>\n",
       "      <td>107</td>\n",
       "      <td>...</td>\n",
       "      <td>107</td>\n",
       "      <td>107</td>\n",
       "      <td>105</td>\n",
       "      <td>107</td>\n",
       "      <td>107</td>\n",
       "      <td>61</td>\n",
       "      <td>107</td>\n",
       "      <td>107</td>\n",
       "      <td>104</td>\n",
       "      <td>105</td>\n",
       "    </tr>\n",
       "    <tr>\n",
       "      <th>hartung</th>\n",
       "      <td>174</td>\n",
       "      <td>174</td>\n",
       "      <td>174</td>\n",
       "      <td>174</td>\n",
       "      <td>156</td>\n",
       "      <td>172</td>\n",
       "      <td>174</td>\n",
       "      <td>174</td>\n",
       "      <td>174</td>\n",
       "      <td>174</td>\n",
       "      <td>...</td>\n",
       "      <td>174</td>\n",
       "      <td>174</td>\n",
       "      <td>172</td>\n",
       "      <td>173</td>\n",
       "      <td>174</td>\n",
       "      <td>84</td>\n",
       "      <td>174</td>\n",
       "      <td>174</td>\n",
       "      <td>171</td>\n",
       "      <td>172</td>\n",
       "    </tr>\n",
       "    <tr>\n",
       "      <th>cancelar</th>\n",
       "      <td>196</td>\n",
       "      <td>196</td>\n",
       "      <td>196</td>\n",
       "      <td>196</td>\n",
       "      <td>178</td>\n",
       "      <td>194</td>\n",
       "      <td>196</td>\n",
       "      <td>196</td>\n",
       "      <td>196</td>\n",
       "      <td>196</td>\n",
       "      <td>...</td>\n",
       "      <td>196</td>\n",
       "      <td>196</td>\n",
       "      <td>193</td>\n",
       "      <td>194</td>\n",
       "      <td>196</td>\n",
       "      <td>104</td>\n",
       "      <td>196</td>\n",
       "      <td>196</td>\n",
       "      <td>193</td>\n",
       "      <td>194</td>\n",
       "    </tr>\n",
       "    <tr>\n",
       "      <th>agenda</th>\n",
       "      <td>179</td>\n",
       "      <td>179</td>\n",
       "      <td>179</td>\n",
       "      <td>179</td>\n",
       "      <td>161</td>\n",
       "      <td>177</td>\n",
       "      <td>179</td>\n",
       "      <td>179</td>\n",
       "      <td>179</td>\n",
       "      <td>179</td>\n",
       "      <td>...</td>\n",
       "      <td>179</td>\n",
       "      <td>179</td>\n",
       "      <td>176</td>\n",
       "      <td>177</td>\n",
       "      <td>179</td>\n",
       "      <td>94</td>\n",
       "      <td>179</td>\n",
       "      <td>179</td>\n",
       "      <td>176</td>\n",
       "      <td>177</td>\n",
       "    </tr>\n",
       "  </tbody>\n",
       "</table>\n",
       "<p>5 rows × 21 columns</p>\n",
       "</div>"
      ],
      "text/plain": [
       "          at2  sro  inf  imo  ept  esp  fam  tvt  cid  mul ...   tav  mic  \\\n",
       "Index                                                      ...              \n",
       "moqueca   196  196  196  196  178  194  196  196  196  196 ...   196  196   \n",
       "faz       107  107  107  107   95  105  107  107  107  107 ...   107  107   \n",
       "hartung   174  174  174  174  156  172  174  174  174  174 ...   174  174   \n",
       "cancelar  196  196  196  196  178  194  196  196  196  196 ...   196  196   \n",
       "agenda    179  179  179  179  161  177  179  179  179  179 ...   179  179   \n",
       "\n",
       "          opi  poc  reg  eco  bro  cit  con  int  \n",
       "Index                                             \n",
       "moqueca   193  194  196  104  196  196  193  194  \n",
       "faz       105  107  107   61  107  107  104  105  \n",
       "hartung   172  173  174   84  174  174  171  172  \n",
       "cancelar  193  194  196  104  196  196  193  194  \n",
       "agenda    176  177  179   94  179  179  176  177  \n",
       "\n",
       "[5 rows x 21 columns]"
      ]
     },
     "execution_count": 114,
     "metadata": {},
     "output_type": "execute_result"
    }
   ],
   "source": [
    "df_d.head()"
   ]
  },
  {
   "cell_type": "markdown",
   "metadata": {},
   "source": [
    "---"
   ]
  },
  {
   "cell_type": "markdown",
   "metadata": {},
   "source": [
    "## Conta quantas classes o termo ki aparece"
   ]
  },
  {
   "cell_type": "code",
   "execution_count": 115,
   "metadata": {},
   "outputs": [],
   "source": [
    "def get_row_class(row, classe):\n",
    "    dic_classe = {\n",
    "        'at2':row.at2,\n",
    "        'sro':row.sro,\n",
    "        'inf':row.inf,\n",
    "        'imo':row.imo,\n",
    "        'ept':row.ept,\n",
    "        'esp':row.esp,\n",
    "        'fam':row.fam,\n",
    "        'tvt':row.tvt,\n",
    "        'cid':row.cid,\n",
    "        'mul':row.mul,\n",
    "        'pot':row.pot,\n",
    "        'tav':row.tav,\n",
    "        'mic':row.mic,\n",
    "        'opi':row.opi,\n",
    "        'poc':row.poc,\n",
    "        'reg':row.reg,\n",
    "        'eco':row.eco,\n",
    "        'bro':row.bro,\n",
    "        'cit':row.cit,\n",
    "        'con':row.con,\n",
    "        'int':row.int\n",
    "    }\n",
    "    return dic_classe[f'{classe}']\n",
    "    "
   ]
  },
  {
   "cell_type": "code",
   "execution_count": 116,
   "metadata": {},
   "outputs": [],
   "source": [
    "def num_ki_em_categoria():\n",
    "\n",
    "    dic_num_ki_em_categoria ={}\n",
    "    for row in tqdm(df_relacao_class.itertuples(index=True, name='Pandas')):\n",
    "        ci = 0\n",
    "        for classe in classes:\n",
    "            if get_row_class(row,classe)!= 0:\n",
    "                ci += 1\n",
    "        dic_num_ki_em_categoria[f'{row.Index}'] = ci\n",
    "        \n",
    "    return dic_num_ki_em_categoria"
   ]
  },
  {
   "cell_type": "markdown",
   "metadata": {},
   "source": [
    "# Bag of Word"
   ]
  },
  {
   "cell_type": "code",
   "execution_count": 117,
   "metadata": {},
   "outputs": [
    {
     "name": "stderr",
     "output_type": "stream",
     "text": [
      "13356it [00:00, 36756.94it/s]\n"
     ]
    }
   ],
   "source": [
    "bag_of_word = {}\n",
    "bag_of_word['a'] = df_a\n",
    "bag_of_word['b'] = df_b\n",
    "bag_of_word['c'] = df_c\n",
    "bag_of_word['d'] = df_d\n",
    "bag_of_word['freq_pal_class'] = df_relacao_class\n",
    "bag_of_word['ci'] = num_ki_em_categoria()\n",
    "bag_of_word['ni'] = dic_ni"
   ]
  },
  {
   "cell_type": "markdown",
   "metadata": {},
   "source": [
    "## ICF"
   ]
  },
  {
   "cell_type": "code",
   "execution_count": 118,
   "metadata": {},
   "outputs": [],
   "source": [
    "import math "
   ]
  },
  {
   "cell_type": "code",
   "execution_count": 119,
   "metadata": {},
   "outputs": [],
   "source": [
    "def calculeteICF():\n",
    "    dic_num_ki_em_categoria = bag_of_word['ci']\n",
    "    icfs = {}\n",
    "    C = len(classes)\n",
    "    for key in dic_num_ki_em_categoria:\n",
    "        Ci = dic_num_ki_em_categoria[key]\n",
    "        valor = math.log((1 + (C/Ci)))\n",
    "        icfs[f'{key}'] = valor\n",
    "    return icfs"
   ]
  },
  {
   "cell_type": "code",
   "execution_count": 120,
   "metadata": {},
   "outputs": [],
   "source": [
    "icfs = calculeteICF() "
   ]
  },
  {
   "cell_type": "code",
   "execution_count": 121,
   "metadata": {},
   "outputs": [
    {
     "name": "stderr",
     "output_type": "stream",
     "text": [
      "100%|███████████████████████████████████████████████████████████████████████████| 13356/13356 [00:23<00:00, 560.10it/s]\n"
     ]
    }
   ],
   "source": [
    "df_icf = pd.DataFrame()\n",
    "df_icf['Index'] = df_text_clean.index\n",
    "\n",
    "for termo in tqdm(lista_palavras):\n",
    "    \n",
    "    list_icfs = []\n",
    "    \n",
    "    for row in df_text_clean.itertuples(index=True, name='Pandas'):\n",
    "        doc = row.Text\n",
    "        if termo in doc:\n",
    "            list_icfs.append(icfs[termo])\n",
    "        else:\n",
    "            list_icfs.append(0)\n",
    "    \n",
    "    df_icf[f'{termo}'] = list_icfs\n",
    "    \n",
    "df_icf = df_icf.set_index('Index')"
   ]
  },
  {
   "cell_type": "code",
   "execution_count": 122,
   "metadata": {},
   "outputs": [
    {
     "data": {
      "text/html": [
       "<div>\n",
       "<style scoped>\n",
       "    .dataframe tbody tr th:only-of-type {\n",
       "        vertical-align: middle;\n",
       "    }\n",
       "\n",
       "    .dataframe tbody tr th {\n",
       "        vertical-align: top;\n",
       "    }\n",
       "\n",
       "    .dataframe thead th {\n",
       "        text-align: right;\n",
       "    }\n",
       "</style>\n",
       "<table border=\"1\" class=\"dataframe\">\n",
       "  <thead>\n",
       "    <tr style=\"text-align: right;\">\n",
       "      <th></th>\n",
       "      <th>moqueca</th>\n",
       "      <th>faz</th>\n",
       "      <th>hartung</th>\n",
       "      <th>cancelar</th>\n",
       "      <th>agenda</th>\n",
       "      <th>governador</th>\n",
       "      <th>reacao</th>\n",
       "      <th>alergica</th>\n",
       "      <th>apos</th>\n",
       "      <th>comer</th>\n",
       "      <th>...</th>\n",
       "      <th>laurivan</th>\n",
       "      <th>pelissari</th>\n",
       "      <th>luhanna</th>\n",
       "      <th>75,0</th>\n",
       "      <th>marcal</th>\n",
       "      <th>rozeli</th>\n",
       "      <th>walleska</th>\n",
       "      <th>zulina</th>\n",
       "      <th>fairich</th>\n",
       "      <th>29/08/2006</th>\n",
       "    </tr>\n",
       "    <tr>\n",
       "      <th>Index</th>\n",
       "      <th></th>\n",
       "      <th></th>\n",
       "      <th></th>\n",
       "      <th></th>\n",
       "      <th></th>\n",
       "      <th></th>\n",
       "      <th></th>\n",
       "      <th></th>\n",
       "      <th></th>\n",
       "      <th></th>\n",
       "      <th></th>\n",
       "      <th></th>\n",
       "      <th></th>\n",
       "      <th></th>\n",
       "      <th></th>\n",
       "      <th></th>\n",
       "      <th></th>\n",
       "      <th></th>\n",
       "      <th></th>\n",
       "      <th></th>\n",
       "      <th></th>\n",
       "    </tr>\n",
       "  </thead>\n",
       "  <tbody>\n",
       "    <tr>\n",
       "      <th>0</th>\n",
       "      <td>3.091042</td>\n",
       "      <td>2.079442</td>\n",
       "      <td>1.832581</td>\n",
       "      <td>3.091042</td>\n",
       "      <td>2.442347</td>\n",
       "      <td>1.648659</td>\n",
       "      <td>1.832581</td>\n",
       "      <td>3.091042</td>\n",
       "      <td>1.832581</td>\n",
       "      <td>2.442347</td>\n",
       "      <td>...</td>\n",
       "      <td>0.0</td>\n",
       "      <td>0.0</td>\n",
       "      <td>0.0</td>\n",
       "      <td>0.0</td>\n",
       "      <td>0.0</td>\n",
       "      <td>0.0</td>\n",
       "      <td>0.0</td>\n",
       "      <td>0.0</td>\n",
       "      <td>0.0</td>\n",
       "      <td>0.0</td>\n",
       "    </tr>\n",
       "    <tr>\n",
       "      <th>1</th>\n",
       "      <td>0.000000</td>\n",
       "      <td>2.079442</td>\n",
       "      <td>0.000000</td>\n",
       "      <td>0.000000</td>\n",
       "      <td>0.000000</td>\n",
       "      <td>0.000000</td>\n",
       "      <td>0.000000</td>\n",
       "      <td>0.000000</td>\n",
       "      <td>0.000000</td>\n",
       "      <td>0.000000</td>\n",
       "      <td>...</td>\n",
       "      <td>0.0</td>\n",
       "      <td>0.0</td>\n",
       "      <td>0.0</td>\n",
       "      <td>0.0</td>\n",
       "      <td>0.0</td>\n",
       "      <td>0.0</td>\n",
       "      <td>0.0</td>\n",
       "      <td>0.0</td>\n",
       "      <td>0.0</td>\n",
       "      <td>0.0</td>\n",
       "    </tr>\n",
       "    <tr>\n",
       "      <th>2</th>\n",
       "      <td>0.000000</td>\n",
       "      <td>0.000000</td>\n",
       "      <td>0.000000</td>\n",
       "      <td>0.000000</td>\n",
       "      <td>0.000000</td>\n",
       "      <td>0.000000</td>\n",
       "      <td>0.000000</td>\n",
       "      <td>0.000000</td>\n",
       "      <td>0.000000</td>\n",
       "      <td>0.000000</td>\n",
       "      <td>...</td>\n",
       "      <td>0.0</td>\n",
       "      <td>0.0</td>\n",
       "      <td>0.0</td>\n",
       "      <td>0.0</td>\n",
       "      <td>0.0</td>\n",
       "      <td>0.0</td>\n",
       "      <td>0.0</td>\n",
       "      <td>0.0</td>\n",
       "      <td>0.0</td>\n",
       "      <td>0.0</td>\n",
       "    </tr>\n",
       "    <tr>\n",
       "      <th>3</th>\n",
       "      <td>0.000000</td>\n",
       "      <td>2.079442</td>\n",
       "      <td>0.000000</td>\n",
       "      <td>0.000000</td>\n",
       "      <td>0.000000</td>\n",
       "      <td>0.000000</td>\n",
       "      <td>0.000000</td>\n",
       "      <td>0.000000</td>\n",
       "      <td>0.000000</td>\n",
       "      <td>0.000000</td>\n",
       "      <td>...</td>\n",
       "      <td>0.0</td>\n",
       "      <td>0.0</td>\n",
       "      <td>0.0</td>\n",
       "      <td>0.0</td>\n",
       "      <td>0.0</td>\n",
       "      <td>0.0</td>\n",
       "      <td>0.0</td>\n",
       "      <td>0.0</td>\n",
       "      <td>0.0</td>\n",
       "      <td>0.0</td>\n",
       "    </tr>\n",
       "    <tr>\n",
       "      <th>4</th>\n",
       "      <td>0.000000</td>\n",
       "      <td>0.000000</td>\n",
       "      <td>0.000000</td>\n",
       "      <td>0.000000</td>\n",
       "      <td>0.000000</td>\n",
       "      <td>0.000000</td>\n",
       "      <td>0.000000</td>\n",
       "      <td>0.000000</td>\n",
       "      <td>0.000000</td>\n",
       "      <td>2.442347</td>\n",
       "      <td>...</td>\n",
       "      <td>0.0</td>\n",
       "      <td>0.0</td>\n",
       "      <td>0.0</td>\n",
       "      <td>0.0</td>\n",
       "      <td>0.0</td>\n",
       "      <td>0.0</td>\n",
       "      <td>0.0</td>\n",
       "      <td>0.0</td>\n",
       "      <td>0.0</td>\n",
       "      <td>0.0</td>\n",
       "    </tr>\n",
       "  </tbody>\n",
       "</table>\n",
       "<p>5 rows × 13356 columns</p>\n",
       "</div>"
      ],
      "text/plain": [
       "        moqueca       faz   hartung  cancelar    agenda  governador    reacao  \\\n",
       "Index                                                                           \n",
       "0      3.091042  2.079442  1.832581  3.091042  2.442347    1.648659  1.832581   \n",
       "1      0.000000  2.079442  0.000000  0.000000  0.000000    0.000000  0.000000   \n",
       "2      0.000000  0.000000  0.000000  0.000000  0.000000    0.000000  0.000000   \n",
       "3      0.000000  2.079442  0.000000  0.000000  0.000000    0.000000  0.000000   \n",
       "4      0.000000  0.000000  0.000000  0.000000  0.000000    0.000000  0.000000   \n",
       "\n",
       "       alergica      apos     comer     ...      laurivan  pelissari  luhanna  \\\n",
       "Index                                   ...                                     \n",
       "0      3.091042  1.832581  2.442347     ...           0.0        0.0      0.0   \n",
       "1      0.000000  0.000000  0.000000     ...           0.0        0.0      0.0   \n",
       "2      0.000000  0.000000  0.000000     ...           0.0        0.0      0.0   \n",
       "3      0.000000  0.000000  0.000000     ...           0.0        0.0      0.0   \n",
       "4      0.000000  0.000000  2.442347     ...           0.0        0.0      0.0   \n",
       "\n",
       "       75,0  marcal  rozeli  walleska  zulina  fairich  29/08/2006  \n",
       "Index                                                               \n",
       "0       0.0     0.0     0.0       0.0     0.0      0.0         0.0  \n",
       "1       0.0     0.0     0.0       0.0     0.0      0.0         0.0  \n",
       "2       0.0     0.0     0.0       0.0     0.0      0.0         0.0  \n",
       "3       0.0     0.0     0.0       0.0     0.0      0.0         0.0  \n",
       "4       0.0     0.0     0.0       0.0     0.0      0.0         0.0  \n",
       "\n",
       "[5 rows x 13356 columns]"
      ]
     },
     "execution_count": 122,
     "metadata": {},
     "output_type": "execute_result"
    }
   ],
   "source": [
    "df_icf.head()"
   ]
  },
  {
   "cell_type": "markdown",
   "metadata": {},
   "source": [
    "---"
   ]
  },
  {
   "cell_type": "markdown",
   "metadata": {},
   "source": [
    "## Calculando IDF"
   ]
  },
  {
   "cell_type": "code",
   "execution_count": 123,
   "metadata": {
    "scrolled": true
   },
   "outputs": [
    {
     "name": "stderr",
     "output_type": "stream",
     "text": [
      "100%|███████████████████████████████████████████████████████████████████████| 13356/13356 [00:00<00:00, 1545696.27it/s]\n"
     ]
    }
   ],
   "source": [
    "idfDict = {}\n",
    "N = len(df_text_clean)\n",
    "\n",
    "for termo, value in tqdm(bag_of_word['ni'].items()):\n",
    "    idfDict[termo] = math.log10(N / (float(value)))"
   ]
  },
  {
   "cell_type": "markdown",
   "metadata": {},
   "source": [
    "# Calculo qui, rf, icf based, rf*idf"
   ]
  },
  {
   "cell_type": "code",
   "execution_count": 124,
   "metadata": {},
   "outputs": [
    {
     "name": "stderr",
     "output_type": "stream",
     "text": [
      "100%|██████████████████████████████████████████████████████████████████████████████████| 21/21 [00:09<00:00,  2.29it/s]\n"
     ]
    }
   ],
   "source": [
    "df_qui_quadrado = pd.DataFrame()\n",
    "df_qui_quadrado['Index'] = lista_palavras\n",
    "\n",
    "df_rf = pd.DataFrame()\n",
    "df_rf['Index'] = lista_palavras\n",
    "\n",
    "df_icf_based = pd.DataFrame()\n",
    "df_icf_based['Index'] = lista_palavras\n",
    "\n",
    "C = len(classes)\n",
    "dic_num_ki_em_categoria = bag_of_word['ci']\n",
    "\n",
    "df_rfIdf = pd.DataFrame()\n",
    "df_rfIdf['Index'] = lista_palavras\n",
    "    \n",
    "\n",
    "for classe in tqdm(classes):\n",
    "    \n",
    "    lista_valores_qui = []\n",
    "    lista_valores_rf = []\n",
    "    lista_valores_icf_based = []\n",
    "    lista_valores_rfidf = []\n",
    "    \n",
    "    for termo in lista_palavras:\n",
    "        a = bag_of_word['a'].loc[termo, classe]\n",
    "        b = bag_of_word['b'].loc[termo, classe]\n",
    "        c = bag_of_word['c'].loc[termo, classe]\n",
    "        d = bag_of_word['d'].loc[termo, classe]\n",
    "        \n",
    "        # qui\n",
    "        numerador = (len(df_text_clean) * math.pow(((a * d) - (c * d)), 2))\n",
    "        denominador = ((a + c) * (b + d) * (a + b) * (c + d))\n",
    "\n",
    "        if (numerador == 0):\n",
    "            value_qui = 0\n",
    "        else:\n",
    "            value_qui = numerador/denominador\n",
    "            \n",
    "        # RF\n",
    "        value_rf =  math.log(2 + (a / (max(1,b))))\n",
    "        \n",
    "        #ICF-based\n",
    "        Ci = dic_num_ki_em_categoria[termo]\n",
    "        valor_icf_based = math.log((2 + (a/max(1,b)) * (C/Ci)))\n",
    "        \n",
    "        #RF*IDF\n",
    "        valueIdf =  idfDict[termo]\n",
    "        value_rfidf =  value_rf * valueIdf\n",
    "        \n",
    "        #adicionando a listas\n",
    "        lista_valores_qui.append(value_qui)\n",
    "        lista_valores_rf.append(value_rf)\n",
    "        lista_valores_icf_based.append(valor_icf_based)\n",
    "        lista_valores_rfidf.append(value_rfidf)\n",
    "\n",
    "    df_qui_quadrado[f'{classe}'] = lista_valores_qui\n",
    "    df_rf[f'{classe}'] = lista_valores_rf\n",
    "    df_icf_based[f'{classe}'] = lista_valores_icf_based\n",
    "    df_rfIdf[f'{classe}'] = lista_valores_rfidf\n",
    "\n",
    "df_qui_quadrado = df_qui_quadrado.set_index('Index')\n",
    "df_rf = df_rf.set_index('Index')\n",
    "df_icf_based = df_icf_based.set_index('Index')\n",
    "df_rfIdf = df_rfIdf.set_index('Index')"
   ]
  },
  {
   "cell_type": "markdown",
   "metadata": {},
   "source": [
    "## Construção dataframe documentos x termos "
   ]
  },
  {
   "cell_type": "code",
   "execution_count": 125,
   "metadata": {},
   "outputs": [
    {
     "name": "stderr",
     "output_type": "stream",
     "text": [
      "100%|███████████████████████████████████████████████████████████████████████████| 13356/13356 [00:58<00:00, 227.80it/s]\n"
     ]
    }
   ],
   "source": [
    "df_doc_rf= pd.DataFrame()\n",
    "df_doc_rf['Index'] = df_text_clean.index\n",
    "\n",
    "df_doc_qui= pd.DataFrame()\n",
    "df_doc_qui['Index'] = df_text_clean.index\n",
    "\n",
    "df_doc_icf_based= pd.DataFrame()\n",
    "df_doc_icf_based['Index'] = df_text_clean.index\n",
    "\n",
    "df_doc_rfIdf= pd.DataFrame()\n",
    "df_doc_rfIdf['Index'] = df_text_clean.index\n",
    "\n",
    "for termo in tqdm(lista_palavras):\n",
    "    \n",
    "    list_rf = []\n",
    "    list_qui = []\n",
    "    list_icf_based = []\n",
    "    list_rfIdf = []\n",
    "    \n",
    "    \n",
    "    for row in df_text_clean.itertuples(index=True, name='Pandas'):\n",
    "        doc = row.Text\n",
    "        classe = row.Class\n",
    "        \n",
    "        if termo in doc:\n",
    "            value_rf = df_rf.loc[termo,classe]\n",
    "            value_qui = df_qui_quadrado.loc[termo,classe]\n",
    "            value_icf_based = df_icf_based.loc[termo,classe]\n",
    "            value_rfIdf = df_rfIdf.loc[termo,classe]\n",
    "            \n",
    "            list_rf.append(value_rf)\n",
    "            list_qui.append(value_qui)\n",
    "            list_icf_based.append(value_icf_based)\n",
    "            list_rfIdf.append(value_rfIdf)\n",
    "        else:\n",
    "            list_rf.append(0)\n",
    "            list_qui.append(0)\n",
    "            list_icf_based.append(0)\n",
    "            list_rfIdf.append(0)\n",
    "    \n",
    "    df_doc_rf[f'{termo}'] = list_rf\n",
    "    df_doc_qui[f'{termo}'] = list_qui\n",
    "    df_doc_icf_based[f'{termo}'] = list_icf_based\n",
    "    df_doc_rfIdf[f'{termo}'] = list_rfIdf\n",
    "    \n",
    "    \n",
    "df_doc_rf = df_doc_rf.set_index('Index')\n",
    "df_doc_qui= df_doc_qui.set_index('Index')\n",
    "df_doc_icf_based = df_doc_icf_based.set_index('Index')\n",
    "df_doc_rfIdf = df_doc_rfIdf.set_index('Index')"
   ]
  },
  {
   "cell_type": "markdown",
   "metadata": {},
   "source": [
    "---"
   ]
  },
  {
   "cell_type": "markdown",
   "metadata": {},
   "source": [
    "## Machine Learning"
   ]
  },
  {
   "cell_type": "markdown",
   "metadata": {},
   "source": [
    "### KNN"
   ]
  },
  {
   "cell_type": "code",
   "execution_count": 169,
   "metadata": {},
   "outputs": [],
   "source": [
    "from sklearn.neighbors import KNeighborsClassifier\n",
    "from sklearn.linear_model import LogisticRegression\n",
    "from sklearn.metrics import confusion_matrix\n",
    "import sklearn.metrics as metrics\n",
    "from sklearn.metrics import roc_auc_score, roc_curve,classification_report,r2_score\n",
    "from sklearn import model_selection as ms\n",
    "from sklearn.preprocessing import LabelEncoder\n",
    "import matplotlib.pyplot as plt\n",
    "from sklearn.metrics import f1_score"
   ]
  },
  {
   "cell_type": "code",
   "execution_count": 127,
   "metadata": {},
   "outputs": [],
   "source": [
    "le = LabelEncoder()"
   ]
  },
  {
   "cell_type": "code",
   "execution_count": 128,
   "metadata": {},
   "outputs": [],
   "source": [
    "def toNumeric(nome_coluna, coluna):\n",
    "    df_text_clean[nome_coluna] = le.fit_transform (coluna)"
   ]
  },
  {
   "cell_type": "code",
   "execution_count": 129,
   "metadata": {},
   "outputs": [],
   "source": [
    "toNumeric('numeric_class',df_text_clean.Class)"
   ]
  },
  {
   "cell_type": "code",
   "execution_count": 130,
   "metadata": {},
   "outputs": [],
   "source": [
    "# features\n",
    "X = df_icf"
   ]
  },
  {
   "cell_type": "code",
   "execution_count": 131,
   "metadata": {},
   "outputs": [],
   "source": [
    "#response\n",
    "Y = df_text_clean.Class"
   ]
  },
  {
   "cell_type": "code",
   "execution_count": 132,
   "metadata": {},
   "outputs": [],
   "source": [
    "x_train, x_test, y_train, y_test = ms.train_test_split(X,Y,test_size=0.33, random_state=5)"
   ]
  },
  {
   "cell_type": "code",
   "execution_count": 133,
   "metadata": {},
   "outputs": [],
   "source": [
    "model_knn = KNeighborsClassifier(n_neighbors=1)"
   ]
  },
  {
   "cell_type": "code",
   "execution_count": 134,
   "metadata": {},
   "outputs": [
    {
     "data": {
      "text/plain": [
       "KNeighborsClassifier(algorithm='auto', leaf_size=30, metric='minkowski',\n",
       "           metric_params=None, n_jobs=1, n_neighbors=1, p=2,\n",
       "           weights='uniform')"
      ]
     },
     "execution_count": 134,
     "metadata": {},
     "output_type": "execute_result"
    }
   ],
   "source": [
    "model_knn.fit(x_train, y_train)"
   ]
  },
  {
   "cell_type": "code",
   "execution_count": 135,
   "metadata": {},
   "outputs": [],
   "source": [
    "pred = model_knn.predict(x_test)"
   ]
  },
  {
   "cell_type": "code",
   "execution_count": 136,
   "metadata": {
    "scrolled": true
   },
   "outputs": [
    {
     "name": "stdout",
     "output_type": "stream",
     "text": [
      "O modelo obteve: 57.58 de acurácia\n"
     ]
    }
   ],
   "source": [
    "acuracia = metrics.accuracy_score(y_test, pred)\n",
    "print(f'O modelo obteve: %.2f de acurácia' % (acuracia*100))"
   ]
  },
  {
   "cell_type": "code",
   "execution_count": 172,
   "metadata": {},
   "outputs": [
    {
     "name": "stdout",
     "output_type": "stream",
     "text": [
      "micro-f1: 57.58 \n",
      "macro-f1: 24.86 \n"
     ]
    }
   ],
   "source": [
    "micro_f1 = f1_score(y_test, pred, average='micro')\n",
    "macro_f1 = f1_score(y_test, pred, average='macro')\n",
    "\n",
    "print(f'micro-f1: %.2f ' % (micro_f1*100))\n",
    "print(f'macro-f1: %.2f ' % (macro_f1*100))"
   ]
  },
  {
   "cell_type": "code",
   "execution_count": 181,
   "metadata": {},
   "outputs": [
    {
     "name": "stdout",
     "output_type": "stream",
     "text": [
      "precision: 0.71\n",
      "recal: 0.58\n"
     ]
    }
   ],
   "source": [
    "precision_recall = classification_report(y_test, pred, labels=classes)[1186:1200].split(\"      \")\n",
    "precision = precision_recall[0]\n",
    "recal = precision_recall[1]\n",
    "\n",
    "print(f'precision: {precision}')\n",
    "print(f'recal: {recal}')"
   ]
  },
  {
   "cell_type": "code",
   "execution_count": 143,
   "metadata": {},
   "outputs": [
    {
     "name": "stdout",
     "output_type": "stream",
     "text": [
      "             precision    recall  f1-score   support\n",
      "\n",
      "        at2       0.00      0.00      0.00         0\n",
      "        sro       0.00      0.00      0.00         0\n",
      "        inf       0.00      0.00      0.00         0\n",
      "        imo       0.00      0.00      0.00         0\n",
      "        ept       1.00      0.20      0.33         5\n",
      "        esp       0.00      0.00      0.00         0\n",
      "        fam       0.00      0.00      0.00         0\n",
      "        tvt       0.00      0.00      0.00         0\n",
      "        cid       0.00      0.00      0.00         0\n",
      "        mul       0.00      0.00      0.00         0\n",
      "        pot       0.49      1.00      0.66        26\n",
      "        tav       0.00      0.00      0.00         0\n",
      "        mic       0.00      0.00      0.00         0\n",
      "        opi       0.00      0.00      0.00         1\n",
      "        poc       0.00      0.00      0.00         0\n",
      "        reg       0.00      0.00      0.00         0\n",
      "        eco       0.92      0.34      0.50        32\n",
      "        bro       0.00      0.00      0.00         0\n",
      "        cit       0.00      0.00      0.00         0\n",
      "        con       0.00      0.00      0.00         1\n",
      "        int       0.00      0.00      0.00         1\n",
      "\n",
      "avg / total       0.71      0.58      0.53        66\n",
      "\n"
     ]
    }
   ],
   "source": [
    "print(classification_report(y_test, pred, labels=classes))"
   ]
  },
  {
   "cell_type": "code",
   "execution_count": null,
   "metadata": {},
   "outputs": [],
   "source": []
  },
  {
   "cell_type": "markdown",
   "metadata": {},
   "source": [
    "# Imports do EDA"
   ]
  },
  {
   "cell_type": "code",
   "execution_count": null,
   "metadata": {},
   "outputs": [],
   "source": [
    "# print da curva ROC\n",
    "def plot_roc_curve(y_true, y_score, figsize=(10,6)):\n",
    "    fpr, tpr, _ = roc_curve(y_true, y_score, pos_label=2)\n",
    "    plt.figure(figsize=figsize)\n",
    "    auc_value = roc_auc_score(y_true, y_score)\n",
    "    plt.plot(fpr, tpr, color='orange', label='ROC curve (area = %0.2f)' % auc_value)\n",
    "    plt.plot([0, 1], [0, 1], color='darkblue', linestyle='--')\n",
    "    plt.xlabel('Taxa de falso positivo')\n",
    "    plt.ylabel('Taxa de verdadeiro positivo')\n",
    "    plt.title('Curva ROC')\n",
    "    plt.legend()\n",
    "    lt.show()"
   ]
  },
  {
   "cell_type": "code",
   "execution_count": null,
   "metadata": {},
   "outputs": [],
   "source": [
    "#precision    recall  f1-score   support\n",
    "print(classification_report(y_test, pred, labels=[1, 2, 3]))"
   ]
  },
  {
   "cell_type": "code",
   "execution_count": null,
   "metadata": {},
   "outputs": [],
   "source": [
    "# AUC\n",
    "print('AUC: %0.2f' % roc_auc_score(y_test, pred))"
   ]
  },
  {
   "cell_type": "code",
   "execution_count": null,
   "metadata": {},
   "outputs": [],
   "source": []
  },
  {
   "cell_type": "markdown",
   "metadata": {},
   "source": [
    "## Número de amostras de cade classe\n"
   ]
  },
  {
   "cell_type": "code",
   "execution_count": null,
   "metadata": {},
   "outputs": [],
   "source": [
    "import seaborn as sns"
   ]
  },
  {
   "cell_type": "code",
   "execution_count": null,
   "metadata": {},
   "outputs": [],
   "source": [
    "sns.set(rc={'figure.figsize':(11.7,8.27)})\n",
    "sns.countplot(x = 'Class',data = textDataDrame)"
   ]
  },
  {
   "cell_type": "code",
   "execution_count": null,
   "metadata": {},
   "outputs": [],
   "source": []
  }
 ],
 "metadata": {
  "kernelspec": {
   "display_name": "Python 3",
   "language": "python",
   "name": "python3"
  },
  "language_info": {
   "codemirror_mode": {
    "name": "ipython",
    "version": 3
   },
   "file_extension": ".py",
   "mimetype": "text/x-python",
   "name": "python",
   "nbconvert_exporter": "python",
   "pygments_lexer": "ipython3",
   "version": "3.6.5"
  }
 },
 "nbformat": 4,
 "nbformat_minor": 4
}
